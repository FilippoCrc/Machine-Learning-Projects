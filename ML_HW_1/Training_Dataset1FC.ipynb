{
 "cells": [
  {
   "cell_type": "markdown",
   "id": "8cba1c3fce94180f",
   "metadata": {
    "collapsed": false,
    "jupyter": {
     "outputs_hidden": false
    }
   },
   "source": [
    "# Settings"
   ]
  },
  {
   "cell_type": "code",
   "execution_count": null,
   "id": "f96db51e7769700b",
   "metadata": {
    "ExecuteTime": {
     "end_time": "2023-11-18T21:18:38.702779500Z",
     "start_time": "2023-11-18T21:18:36.008727700Z"
    },
    "collapsed": false,
    "jupyter": {
     "outputs_hidden": false
    }
   },
   "outputs": [],
   "source": [
    "import pandas as pd\n",
    "import numpy as np\n",
    "from sklearn.datasets import make_classification\n",
    "from sklearn.model_selection import train_test_split\n",
    "from sklearn.preprocessing import StandardScaler\n",
    "from sklearn.tree import DecisionTreeClassifier\n",
    "from sklearn.naive_bayes import GaussianNB\n",
    "from sklearn.svm import SVC\n",
    "from xgboost import XGBClassifier\n",
    "from sklearn.metrics import accuracy_score\n",
    "from sklearn.metrics import confusion_matrix\n",
    "from sklearn.metrics import precision_score\n",
    "from sklearn.metrics import recall_score\n",
    "from sklearn.metrics import f1_score\n",
    "import matplotlib.pyplot as plt\n",
    "import seaborn as sns\n",
    "from sklearn.model_selection import cross_val_score\n",
    "#from sklearn.metrics import roc_auc_score\n",
    "import time\n",
    "import psutil\n",
    "#import utils\n",
    "#import os\n",
    "#import csv"
   ]
  },
  {
   "cell_type": "code",
   "execution_count": null,
   "metadata": {},
   "outputs": [],
   "source": [
    "def load_data1(csv_filepath):\n",
    "    '''\n",
    "    Load data from a csv file.\n",
    "    :param csv_filepath: path of the .csv file containing the data to load/extract\n",
    "    :return X: array of values associated with the inputs of the data contained in the .csv file\n",
    "    :return Y: array of values associated with the labels of the data contained in the .csv file or None if the file does not contain labels\n",
    "    '''\n",
    "\n",
    "    data = pd.read_csv(csv_filepath)\n",
    "    headers = data.columns\n",
    "    x_data = data[headers[0]]\n",
    "    X_data = [[float(feature) for feature in feature_vec.replace('[', '').replace(']', '').split()] for feature_vec in x_data]\n",
    "    X = np.array(X_data)\n",
    "    \n",
    "    if len(headers)>1:\n",
    "        Y_data = data[headers[1]]\n",
    "        Y = np.array(Y_data)\n",
    "    else:\n",
    "        Y = None\n",
    "\n",
    "    return X, Y\n",
    "\n",
    "X, Y = load_data1('dataset1.csv')\n",
    "print(\"X: \" + str(X.shape))\n",
    "if Y is not None:\n",
    "    print(\"Y: \" + str(Y.shape))\n",
    "\n",
    "\n",
    "X_train, X_test, y_train, y_test = train_test_split(X, Y, test_size=0.2, random_state=30)\n",
    "#normalization of the dataset\n",
    "scaler = StandardScaler()\n",
    "X_train = scaler.fit_transform(X_train)\n",
    "X_test = scaler.transform(X_test)"
   ]
  },
  {
   "cell_type": "markdown",
   "metadata": {},
   "source": [
    "## Results table definition "
   ]
  },
  {
   "cell_type": "code",
   "execution_count": null,
   "id": "e04e5281a1d728dc",
   "metadata": {
    "ExecuteTime": {
     "end_time": "2023-11-18T18:03:09.141645400Z",
     "start_time": "2023-11-18T18:03:09.118626400Z"
    },
    "collapsed": false,
    "jupyter": {
     "outputs_hidden": false
    }
   },
   "outputs": [],
   "source": [
    "results = {\n",
    "    'Algorithm': ['Decision Tree', 'SVM', 'XGBoost', 'Naive Bayes'],\n",
    "    'Acc. without CV': [],\n",
    "    'Acc. with CV': [],\n",
    "    'T. without CV [s]': [],\n",
    "    'T. with CV [s]': [],\n",
    "    'CPU usage without CV [%]': [],\n",
    "    'CPU usage with CV [%]': [],    \n",
    "}"
   ]
  },
  {
   "cell_type": "markdown",
   "id": "7d44e4a4b28d3f4f",
   "metadata": {
    "collapsed": false,
    "jupyter": {
     "outputs_hidden": false
    }
   },
   "source": [
    "## Unbalanced dataset verification"
   ]
  },
  {
   "cell_type": "code",
   "execution_count": null,
   "id": "58c2dd1e47c9d91b",
   "metadata": {
    "ExecuteTime": {
     "end_time": "2023-11-18T21:48:45.274416700Z",
     "start_time": "2023-11-18T21:48:45.271491Z"
    },
    "collapsed": false,
    "jupyter": {
     "outputs_hidden": false
    }
   },
   "outputs": [],
   "source": [
    "import pandas as pd\n",
    "\n",
    "target_balance = sorted(Y)\n",
    "conteggio_numeri = {}\n",
    "\n",
    "for numero in target_balance:\n",
    "    if numero in conteggio_numeri:\n",
    "        conteggio_numeri[numero] += 1\n",
    "    else:\n",
    "        conteggio_numeri[numero] = 1\n",
    "\n",
    "df = pd.DataFrame(list(conteggio_numeri.items()), columns=[\"Number\", \"Count\"])\n",
    "\n",
    "count_alert = any(conteggio < 1000 for conteggio in conteggio_numeri.values())\n",
    "\n",
    "if count_alert:\n",
    "    print(\"WARNING! Unbalanced Dataset\")\n",
    "else:\n",
    "    print(\"Balanced Dataset\")\n",
    "    \n",
    "df.head(10)"
   ]
  },
  {
   "cell_type": "markdown",
   "id": "17bbd20cfabc5423",
   "metadata": {
    "collapsed": false,
    "jupyter": {
     "outputs_hidden": false
    }
   },
   "source": [
    "# Decision Tree"
   ]
  },
  {
   "cell_type": "code",
   "execution_count": 48,
   "id": "cd418d7d21f78537",
   "metadata": {
    "ExecuteTime": {
     "end_time": "2023-11-18T12:32:15.045225100Z",
     "start_time": "2023-11-18T12:31:44.329201300Z"
    },
    "collapsed": false,
    "jupyter": {
     "outputs_hidden": false
    }
   },
   "outputs": [
    {
     "name": "stdout",
     "output_type": "stream",
     "text": [
      "DT Accuracy: 97.29 %\n",
      "CPU Usage without CV: 3.1 %\n",
      "Precision: 0.973\n",
      "Recall: 0.973\n",
      "f1: 0.973\n",
      "DT CV Accuracy: 97.40 %\n",
      "CPU Usage with CV: 20.0 %\n",
      "Precision_CV: 0.973\n",
      "Recall_CV: 0.973\n",
      "f1_CV: 0.973\n"
     ]
    }
   ],
   "source": [
    "start_time_DT = time.time()\n",
    "decision_tree = DecisionTreeClassifier()\n",
    "decision_tree.fit(X_train, y_train)\n",
    "dt_predictions = decision_tree.predict(X_test)\n",
    "dt_accuracy = accuracy_score(y_test, dt_predictions)\n",
    "dt_precision = precision_score(y_test, dt_predictions, average='weighted')\n",
    "dt_recall = recall_score(y_test, dt_predictions, average='weighted')\n",
    "dt_f1 = f1_score(y_test, dt_predictions, average='weighted')\n",
    "end_time_DT = time.time()\n",
    "time_without_cv_DT = end_time_DT - start_time_DT\n",
    "cpu_usage_without_cv_DT = psutil.cpu_percent()\n",
    "\n",
    "\n",
    "#Print\n",
    "print(f\"DT Accuracy: {round(dt_accuracy*100, 2)} %\")\n",
    "print(f\"CPU Usage without CV: {cpu_usage_without_cv_DT} %\")\n",
    "print(f'Precision: {dt_precision:.3f}')\n",
    "print(f\"Recall: {dt_recall:.3f}\")\n",
    "print(f\"f1: {dt_f1:.3f}\")\n",
    "\n",
    "results['Acc. without CV'].append(round(dt_accuracy * 100, 2))\n",
    "results['T. without CV [s]'].append(round(time_without_cv_DT, 2))\n",
    "results['CPU usage without CV [%]'].append(psutil.cpu_percent())\n",
    "\n",
    "#Cross-Validation\n",
    "start_time_DT_CV = time.time()\n",
    "dt_cv_scores = cross_val_score(DecisionTreeClassifier(), X, Y, cv=3)\n",
    "end_time_DT_CV = time.time()\n",
    "time_with_cv_DT = end_time_DT_CV - start_time_DT_CV\n",
    "cpu_usage_with_cv_DT = psutil.cpu_percent()\n",
    "dt_precision_CV = precision_score(y_test, dt_predictions, average='weighted')\n",
    "dt_recall_CV = recall_score(y_test, dt_predictions, average='weighted')\n",
    "dt_f1_CV = f1_score(y_test, dt_predictions, average='weighted')\n",
    "\n",
    "#Print\n",
    "print(f\"DT CV Accuracy: {np.mean(dt_cv_scores)*100:.2f} %\")\n",
    "print(f\"CPU Usage with CV: {cpu_usage_with_cv_DT} %\")\n",
    "print(f'Precision_CV: {dt_precision_CV:.3f}')\n",
    "print(f\"Recall_CV: {dt_recall_CV:.3f}\")\n",
    "print(f\"f1_CV: {dt_f1_CV:.3f}\")\n",
    "\n",
    "results['Acc. with CV'].append(round(np.mean(dt_cv_scores) * 100, 2))\n",
    "results['T. with CV [s]'].append(round(time_with_cv_DT, 2))\n",
    "results['CPU usage with CV [%]'].append(psutil.cpu_percent())"
   ]
  },
  {
   "cell_type": "markdown",
   "id": "9cd26559b05feda1",
   "metadata": {
    "collapsed": false,
    "jupyter": {
     "outputs_hidden": false
    }
   },
   "source": [
    "### Decision Tree - Confusion Matrix"
   ]
  },
  {
   "cell_type": "code",
   "execution_count": null,
   "id": "6f500d4805322607",
   "metadata": {
    "ExecuteTime": {
     "end_time": "2023-11-18T12:32:15.236539600Z",
     "start_time": "2023-11-18T12:32:15.045225100Z"
    },
    "collapsed": false,
    "jupyter": {
     "outputs_hidden": false
    }
   },
   "outputs": [],
   "source": [
    "dt_cm = confusion_matrix(y_test, dt_predictions)\n",
    "plt.figure(figsize=(8, 6))\n",
    "sns.heatmap(dt_cm, annot=True, cmap='Greens', fmt='d', cbar=False)\n",
    "plt.title('Decision Tree Confusion Matrix')\n",
    "plt.xlabel('Predicted Labels')\n",
    "plt.ylabel('True Labels')\n",
    "plt.savefig('confusion_matrix_DT.svg', format='svg')\n",
    "plt.show()"
   ]
  },
  {
   "cell_type": "markdown",
   "id": "54421e817bf2b8ed",
   "metadata": {
    "collapsed": false,
    "jupyter": {
     "outputs_hidden": false
    }
   },
   "source": [
    "# Support Vector Machine"
   ]
  },
  {
   "cell_type": "code",
   "execution_count": 1,
   "id": "c4f0d214c1dad60",
   "metadata": {
    "ExecuteTime": {
     "end_time": "2023-11-18T12:36:10.016456300Z",
     "start_time": "2023-11-18T12:35:55.264709800Z"
    },
    "collapsed": false,
    "jupyter": {
     "outputs_hidden": false
    }
   },
   "outputs": [
    {
     "ename": "NameError",
     "evalue": "name 'time' is not defined",
     "output_type": "error",
     "traceback": [
      "\u001b[1;31m---------------------------------------------------------------------------\u001b[0m",
      "\u001b[1;31mNameError\u001b[0m                                 Traceback (most recent call last)",
      "\u001b[1;32mc:\\Users\\filip\\Documents\\Programmi Python VS\\Training_Dataset1FC.ipynb Cell 13\u001b[0m line \u001b[0;36m1\n\u001b[1;32m----> <a href='vscode-notebook-cell:/c%3A/Users/filip/Documents/Programmi%20Python%20VS/Training_Dataset1FC.ipynb#X15sZmlsZQ%3D%3D?line=0'>1</a>\u001b[0m start_time_SVM \u001b[39m=\u001b[39m time\u001b[39m.\u001b[39mtime()\n\u001b[0;32m      <a href='vscode-notebook-cell:/c%3A/Users/filip/Documents/Programmi%20Python%20VS/Training_Dataset1FC.ipynb#X15sZmlsZQ%3D%3D?line=1'>2</a>\u001b[0m svm \u001b[39m=\u001b[39m SVC()\n\u001b[0;32m      <a href='vscode-notebook-cell:/c%3A/Users/filip/Documents/Programmi%20Python%20VS/Training_Dataset1FC.ipynb#X15sZmlsZQ%3D%3D?line=2'>3</a>\u001b[0m \u001b[39m#svm = SVC(kernel= 'poly', degree=3)\u001b[39;00m\n\u001b[0;32m      <a href='vscode-notebook-cell:/c%3A/Users/filip/Documents/Programmi%20Python%20VS/Training_Dataset1FC.ipynb#X15sZmlsZQ%3D%3D?line=3'>4</a>\u001b[0m \u001b[39m#svm = SVC(kernel='rbf')\u001b[39;00m\n\u001b[0;32m      <a href='vscode-notebook-cell:/c%3A/Users/filip/Documents/Programmi%20Python%20VS/Training_Dataset1FC.ipynb#X15sZmlsZQ%3D%3D?line=4'>5</a>\u001b[0m \u001b[39m#svm = SVC(kernel='sigmoid')\u001b[39;00m\n",
      "\u001b[1;31mNameError\u001b[0m: name 'time' is not defined"
     ]
    }
   ],
   "source": [
    "start_time_SVM = time.time()\n",
    "svm = SVC()\n",
    "#svm = SVC(kernel= 'poly', degree=3)\n",
    "#svm = SVC(kernel='rbf')\n",
    "#svm = SVC(kernel='sigmoid')\n",
    "svm.fit(X_train, y_train)\n",
    "svm_predictions = svm.predict(X_test)\n",
    "svm_accuracy = accuracy_score(y_test, svm_predictions)\n",
    "svm_precision = precision_score(y_test, svm_predictions, average='weighted')\n",
    "svm_recall = recall_score(y_test, svm_predictions, average='weighted')\n",
    "svm_f1 = f1_score(y_test, svm_predictions, average='weighted')\n",
    "\n",
    "end_time_SVM = time.time()\n",
    "time_without_cv_SVM = end_time_SVM - start_time_SVM\n",
    "cpu_usage_without_cv_SVM = psutil.cpu_percent()\n",
    "\n",
    "#Print\n",
    "print(f\"SVM Accuracy: {round(svm_accuracy*100, 2)} %\")\n",
    "print(f\"CPU Usage without CV: {cpu_usage_without_cv_SVM} %\")\n",
    "print(f'Precision: {svm_precision:.3f}')\n",
    "print(f\"Recall: {svm_recall:.3f}\")\n",
    "print(f\"f1: {svm_f1:.3f}\")\n",
    "\n",
    "results['Acc. without CV'].append(round(svm_accuracy * 100, 2))\n",
    "results['T. without CV [s]'].append(round(time_without_cv_SVM, 2))\n",
    "results['CPU usage without CV [%]'].append(psutil.cpu_percent())\n",
    "\n",
    "#Cross-validation\n",
    "start_time_SVM_CV = time.time()\n",
    "svm_cv_scores = cross_val_score(SVC(), X, Y, cv=5)\n",
    "svm_precision_CV = precision_score(y_test, svm_predictions, average='weighted')\n",
    "svm_recall_CV = recall_score(y_test, svm_predictions, average='weighted')\n",
    "svm_f1_CV = f1_score(y_test, svm_predictions, average='weighted')\n",
    "\n",
    "end_time_SVM_CV = time.time()\n",
    "time_with_cv_SVM = end_time_SVM_CV - start_time_SVM_CV\n",
    "cpu_usage_with_cv_SVM = psutil.cpu_percent()\n",
    "\n",
    "#Print\n",
    "print(f\"SVM Cross-Validation Accuracy: {np.mean(svm_cv_scores)*100:.2f} %\")\n",
    "print(f\"CPU Usage with CV: {cpu_usage_with_cv_SVM} %\")\n",
    "print(f'Precision_CV: {svm_precision_CV:.3f}')\n",
    "print(f\"Recall_CV: {svm_recall_CV:.3f}\")\n",
    "print(f\"f1_CV: {svm_f1_CV:.3f}\")\n",
    "\n",
    "results['Acc. with CV'].append(round(np.mean(svm_cv_scores) * 100, 2))\n",
    "results['T. with CV [s]'].append(round(time_with_cv_SVM, 2))\n",
    "results['CPU usage with CV [%]'].append(psutil.cpu_percent())"
   ]
  },
  {
   "cell_type": "markdown",
   "id": "8888f487c16c85b",
   "metadata": {
    "collapsed": false,
    "jupyter": {
     "outputs_hidden": false
    }
   },
   "source": [
    "### Support Vector Machine - Confusion Matrix"
   ]
  },
  {
   "cell_type": "code",
   "execution_count": null,
   "id": "e92d68d285b57bb2",
   "metadata": {
    "ExecuteTime": {
     "end_time": "2023-11-18T12:36:10.211154Z",
     "start_time": "2023-11-18T12:36:10.012943500Z"
    },
    "collapsed": false,
    "jupyter": {
     "outputs_hidden": false
    }
   },
   "outputs": [],
   "source": [
    "svm_cm = confusion_matrix(y_test, svm_predictions)\n",
    "plt.figure(figsize=(8, 6))\n",
    "sns.heatmap(svm_cm, annot=True, cmap='Purples', fmt='d', cbar=False)\n",
    "plt.title('SVM Confusion Matrix')\n",
    "plt.xlabel('Predicted Labels')\n",
    "plt.ylabel('True Labels')\n",
    "plt.savefig('confusion_matrix_SVM.svg', format='svg')\n",
    "plt.show()"
   ]
  },
  {
   "cell_type": "markdown",
   "id": "ddb4d2d161499e07",
   "metadata": {
    "collapsed": false,
    "jupyter": {
     "outputs_hidden": false
    }
   },
   "source": [
    "# XGBoost"
   ]
  },
  {
   "cell_type": "code",
   "execution_count": null,
   "id": "75bd585e378be879",
   "metadata": {
    "ExecuteTime": {
     "end_time": "2023-11-18T17:05:04.497352200Z",
     "start_time": "2023-11-18T17:04:46.871518400Z"
    },
    "collapsed": false,
    "jupyter": {
     "outputs_hidden": false
    }
   },
   "outputs": [],
   "source": [
    "start_time_XGB = time.time()\n",
    "xgb = XGBClassifier()\n",
    "xgb.fit(X_train, y_train)\n",
    "xgb_predictions = xgb.predict(X_test)\n",
    "xgb_accuracy = accuracy_score(y_test, xgb_predictions)\n",
    "xgb_precision = precision_score(y_test, xgb_predictions, average='weighted')\n",
    "xgb_recall = recall_score(y_test, xgb_predictions, average='weighted')\n",
    "xgb_f1 = f1_score(y_test, xgb_predictions, average='weighted')\n",
    "end_time_XGB = time.time()\n",
    "time_without_cv_XGB = end_time_XGB - start_time_XGB\n",
    "cpu_usage_without_cv_XGB = psutil.cpu_percent()\n",
    "\n",
    "#Print\n",
    "print(f\"XGBoost Accuracy: {round(xgb_accuracy*100,2)} %\")\n",
    "print(f\"CPU Usage without CV: {cpu_usage_without_cv_XGB} %\")\n",
    "print(f'Precision: {xgb_precision:.3f}')\n",
    "print(f\"Recall: {xgb_recall:.3f}\")\n",
    "print(f\"f1: {xgb_f1:.3f}\")\n",
    "\n",
    "results['Acc. without CV'].append(round(xgb_accuracy * 100, 2))\n",
    "results['T. without CV [s]'].append(round(time_without_cv_XGB, 2))\n",
    "results['CPU usage without CV [%]'].append(psutil.cpu_percent())\n",
    "\n",
    "#Cross-Validation\n",
    "start_time_XGB_CV = time.time()\n",
    "xgb_cv_scores = cross_val_score(XGBClassifier(), X, Y, cv=5)\n",
    "xgb_precision_CV = precision_score(y_test, xgb_predictions, average='weighted')\n",
    "xgb_recall_CV = recall_score(y_test, xgb_predictions, average='weighted')\n",
    "xgb_f1_CV = f1_score(y_test, xgb_predictions, average='weighted')\n",
    "end_time_XGB_CV = time.time()\n",
    "time_with_cv_XGB = end_time_XGB_CV - start_time_XGB_CV\n",
    "cpu_usage_with_cv_XGB = psutil.cpu_percent()\n",
    "\n",
    "#Print\n",
    "print(f\"XGBoost CV Accuracy: {np.mean(xgb_cv_scores)*100:.2f} %\")\n",
    "print(f\"CPU Usage with CV: {cpu_usage_with_cv_XGB} %\")\n",
    "print(f'Precision: {xgb_precision_CV:.3f}')\n",
    "print(f\"Recall: {xgb_recall_CV:.3f}\")\n",
    "print(f\"f1: {xgb_f1_CV:.3f}\")\n",
    "\n",
    "results['Acc. with CV'].append(round(np.mean(xgb_cv_scores) * 100, 2))\n",
    "results['T. with CV [s]'].append(round(time_with_cv_XGB, 2))\n",
    "results['CPU usage with CV [%]'].append(psutil.cpu_percent())"
   ]
  },
  {
   "cell_type": "markdown",
   "id": "31e58e078f97493",
   "metadata": {
    "collapsed": false,
    "jupyter": {
     "outputs_hidden": false
    }
   },
   "source": [
    "### XGBoost - Confusion Matrix "
   ]
  },
  {
   "cell_type": "code",
   "execution_count": null,
   "id": "84ff1b52bba697f",
   "metadata": {
    "ExecuteTime": {
     "end_time": "2023-11-18T12:36:29.459594200Z",
     "start_time": "2023-11-18T12:36:29.252643800Z"
    },
    "collapsed": false,
    "jupyter": {
     "outputs_hidden": false
    }
   },
   "outputs": [],
   "source": [
    "xgb_cm = confusion_matrix(y_test, xgb_predictions)\n",
    "plt.figure(figsize=(8, 6))\n",
    "sns.heatmap(xgb_cm, annot=True, cmap='YlOrBr', fmt='d', cbar=False)\n",
    "plt.title('XGBoost Confusion Matrix')\n",
    "plt.xlabel('Predicted Labels')\n",
    "plt.ylabel('True Labels')\n",
    "plt.savefig('confusion_matrix_XGB.svg', format='svg')\n",
    "plt.show()"
   ]
  },
  {
   "cell_type": "markdown",
   "metadata": {},
   "source": [
    "# Naive Bayes"
   ]
  },
  {
   "cell_type": "code",
   "execution_count": 49,
   "metadata": {},
   "outputs": [
    {
     "name": "stdout",
     "output_type": "stream",
     "text": [
      "Naive Bayes Accuracy: 96.76 %\n",
      "CPU Usage without CV: 16.1 %\n",
      "Precision: 0.971\n",
      "Recall: 0.968\n",
      "f1: 0.968\n",
      "Naive Bayes Cross-Validation Accuracy: 97.68 %\n",
      "CPU Usage with CV: 22.5 %\n",
      "Precision_CV: 0.971\n",
      "Recall_CV: 0.968\n",
      "f1_CV: 0.968\n"
     ]
    }
   ],
   "source": [
    "start_time_NB = time.time()\n",
    "nb_classifier = GaussianNB()\n",
    "nb_classifier.fit(X_train, y_train)\n",
    "nb_predictions = nb_classifier.predict(X_test)\n",
    "nb_accuracy = accuracy_score(y_test, nb_predictions)\n",
    "nb_precision = precision_score(y_test, nb_predictions, average='weighted')\n",
    "nb_recall = recall_score(y_test, nb_predictions, average='weighted')\n",
    "nb_f1 = f1_score(y_test, nb_predictions, average='weighted')\n",
    "end_time_NB = time.time()\n",
    "time_without_cv_NB = end_time_NB - start_time_NB\n",
    "cpu_usage_without_cv_NB = psutil.cpu_percent()\n",
    "\n",
    "#Print\n",
    "print(f\"Naive Bayes Accuracy: {round(nb_accuracy*100, 2)} %\")\n",
    "print(f\"CPU Usage without CV: {cpu_usage_without_cv_NB} %\")\n",
    "print(f'Precision: {nb_precision:.3f}')\n",
    "print(f\"Recall: {nb_recall:.3f}\")\n",
    "print(f\"f1: {nb_f1:.3f}\")\n",
    "\n",
    "results['Acc. without CV'].append(round(nb_accuracy * 100, 2))\n",
    "results['T. without CV [s]'].append(round(time_without_cv_NB, 2))\n",
    "results['CPU usage without CV [%]'].append(psutil.cpu_percent())\n",
    "\n",
    "# Cross-validation\n",
    "start_time_NB_CV = time.time()\n",
    "nb_cv_scores = cross_val_score(GaussianNB(), X, Y, cv=2)\n",
    "nb_precision_CV = precision_score(y_test, nb_predictions, average='weighted')\n",
    "nb_recall_CV = recall_score(y_test, nb_predictions, average='weighted')\n",
    "nb_f1_CV = f1_score(y_test, nb_predictions, average='weighted')\n",
    "end_time_NB_CV = time.time()\n",
    "time_with_cv_NB = end_time_NB_CV - start_time_NB_CV\n",
    "cpu_usage_with_cv_NB = psutil.cpu_percent()\n",
    "\n",
    "#Print\n",
    "print(f\"Naive Bayes Cross-Validation Accuracy: {np.mean(nb_cv_scores)*100:.2f} %\")\n",
    "print(f\"CPU Usage with CV: {cpu_usage_with_cv_NB} %\")\n",
    "print(f'Precision_CV: {nb_precision_CV:.3f}')\n",
    "print(f\"Recall_CV: {nb_recall_CV:.3f}\")\n",
    "print(f\"f1_CV: {nb_f1_CV:.3f}\")\n",
    "\n",
    "\n",
    "results['Acc. with CV'].append(round(np.mean(nb_cv_scores) * 100, 2))\n",
    "results['T. with CV [s]'].append(round(time_with_cv_NB, 2))\n",
    "results['CPU usage with CV [%]'].append(psutil.cpu_percent())"
   ]
  },
  {
   "cell_type": "markdown",
   "metadata": {},
   "source": [
    "## Confucion matrix Naive Bayes"
   ]
  },
  {
   "cell_type": "code",
   "execution_count": 46,
   "metadata": {},
   "outputs": [
    {
     "data": {
      "image/png": "[encoded data removed]",
      "text/plain": [
       "<Figure size 800x600 with 1 Axes>"
      ]
     },
     "metadata": {},
     "output_type": "display_data"
    }
   ],
   "source": [
    "nb_cm = confusion_matrix(y_test, nb_predictions)\n",
    "plt.figure(figsize=(8, 6))\n",
    "sns.heatmap(nb_cm, annot=True, cmap='YlOrBr', fmt='d', cbar=False)\n",
    "plt.title('Naive Bayes Confusion Matrix')\n",
    "plt.xlabel('Predicted Labels')\n",
    "plt.ylabel('True Labels')\n",
    "plt.savefig('confusion_matrix_NB.svg', format='svg')\n",
    "plt.show()"
   ]
  },
  {
   "cell_type": "markdown",
   "id": "7da8984b8547d98",
   "metadata": {
    "collapsed": false,
    "jupyter": {
     "outputs_hidden": false
    }
   },
   "source": [
    "# Results Table"
   ]
  },
  {
   "cell_type": "code",
   "execution_count": null,
   "id": "d5850eee8ed59a50",
   "metadata": {
    "ExecuteTime": {
     "end_time": "2023-11-18T17:03:44.481509200Z",
     "start_time": "2023-11-18T17:03:44.418408100Z"
    },
    "collapsed": false,
    "jupyter": {
     "outputs_hidden": false
    }
   },
   "outputs": [],
   "source": [
    "#df_results = pd.DataFrame(results)\n",
    "#df_results.head(10)\n",
    "#print(results)\n",
    "#for i in results:\n",
    "#   print()\n",
    "for key, values in results.items():\n",
    "    print(f\"{key}: {values}\")"
   ]
  },
  {
   "cell_type": "markdown",
   "id": "1bcb317e64c85e9f",
   "metadata": {
    "collapsed": false,
    "jupyter": {
     "outputs_hidden": false
    }
   },
   "source": [
    "# Prediction - Decision Tree"
   ]
  },
  {
   "cell_type": "markdown",
   "id": "99ac2e94008c9d18",
   "metadata": {
    "collapsed": false,
    "jupyter": {
     "outputs_hidden": false
    }
   },
   "source": [
    "### Decision Tree without Cross - Validation"
   ]
  },
  {
   "cell_type": "code",
   "execution_count": null,
   "id": "ba2e867c9308fdf3",
   "metadata": {
    "ExecuteTime": {
     "end_time": "2023-11-18T12:37:27.260869200Z",
     "start_time": "2023-11-18T12:37:16.383360800Z"
    },
    "collapsed": false,
    "jupyter": {
     "outputs_hidden": false
    }
   },
   "outputs": [],
   "source": [
    "X_blind =load_data1(\"blind_test1.csv\")[0]\n",
    "X_blind_transformed = scaler.transform(X_blind)\n",
    "pred_list_DT = []\n",
    "\n",
    "for feature in X_blind_transformed:\n",
    "    pred = decision_tree.predict([feature])\n",
    "    pred_list_DT.append(pred)\n",
    "    flat_list_DT = [num for sublist in pred_list_DT for num in sublist]\n",
    "\n",
    "data = {\n",
    "    'Output predicted': flat_list_DT,\n",
    "}\n",
    "\n",
    "df_pre_DT = pd.DataFrame(data)\n",
    "df_pre_DT.head(10000)"
   ]
  },
  {
   "cell_type": "markdown",
   "id": "24e4d61db6a73585",
   "metadata": {
    "collapsed": false,
    "jupyter": {
     "outputs_hidden": false
    }
   },
   "source": [
    "### Decision Tree with Cross - Validation"
   ]
  },
  {
   "cell_type": "code",
   "execution_count": null,
   "id": "228eafefdc8951a0",
   "metadata": {
    "ExecuteTime": {
     "end_time": "2023-11-18T12:37:46.268369900Z",
     "start_time": "2023-11-18T12:37:27.260869200Z"
    },
    "collapsed": false,
    "jupyter": {
     "outputs_hidden": false
    }
   },
   "outputs": [],
   "source": [
    "X_blind = load_data1(\"blind_test1.csv\")[0]\n",
    "X_blind_transformed = scaler.transform(X_blind)\n",
    "pred_list_DTCV = []\n",
    "\n",
    "best_model_index = np.argmax(dt_cv_scores)\n",
    "best_dt_model = DecisionTreeClassifier()\n",
    "best_dt_model.fit(X, Y)\n",
    "\n",
    "for feature in X_blind_transformed:\n",
    "    pred = best_dt_model.predict([feature])\n",
    "    pred_list_DTCV.append(pred)\n",
    "    flat_list_DTCV = [num for sublist in pred_list_DTCV for num in sublist]\n",
    "    \n",
    "data = {\n",
    "    'Output predicted': flat_list_DTCV,\n",
    "}\n",
    "\n",
    "df_pre_DTCV = pd.DataFrame(data)\n",
    "df_pre_DTCV.head(10000)"
   ]
  },
  {
   "cell_type": "markdown",
   "id": "2481489d67fdbad8",
   "metadata": {
    "collapsed": false,
    "jupyter": {
     "outputs_hidden": false
    }
   },
   "source": [
    "# Prediction - Support Vector Machine"
   ]
  },
  {
   "cell_type": "markdown",
   "id": "b8f2d793b43fe794",
   "metadata": {
    "collapsed": false,
    "jupyter": {
     "outputs_hidden": false
    }
   },
   "source": [
    "### Support Vector Machine without Cross-Validation"
   ]
  },
  {
   "cell_type": "code",
   "execution_count": null,
   "id": "52542e0992a9bc5c",
   "metadata": {
    "ExecuteTime": {
     "end_time": "2023-11-18T12:41:52.082077400Z",
     "start_time": "2023-11-18T12:41:25.892423300Z"
    },
    "collapsed": false,
    "jupyter": {
     "outputs_hidden": false
    }
   },
   "outputs": [],
   "source": [
    "X_blind = load_data1(\"blind_test1.csv\")[0]\n",
    "X_blind_transformed = scaler.transform(X_blind)\n",
    "pred_list_SVM = []\n",
    "\n",
    "for feature in X_blind_transformed:\n",
    "    pred = svm.predict([feature])\n",
    "    pred_list_SVM.append(pred)\n",
    "    flat_list_SVM = [num for sublist in pred_list_SVM for num in sublist]\n",
    "    \n",
    "data = {\n",
    "    'Output predicted': flat_list_SVM,\n",
    "}\n",
    "\n",
    "df_pre_SVM = pd.DataFrame(data)\n",
    "df_pre_SVM.head(10000)"
   ]
  },
  {
   "cell_type": "markdown",
   "id": "a4c174fa8263d0a6",
   "metadata": {
    "collapsed": false,
    "jupyter": {
     "outputs_hidden": false
    }
   },
   "source": [
    "### Support Vector Machine with Cross-Validation"
   ]
  },
  {
   "cell_type": "code",
   "execution_count": null,
   "id": "e9b146476c84c2d9",
   "metadata": {
    "ExecuteTime": {
     "end_time": "2023-11-18T12:42:21.239303300Z",
     "start_time": "2023-11-18T12:41:52.082077400Z"
    },
    "collapsed": false,
    "jupyter": {
     "outputs_hidden": false
    }
   },
   "outputs": [],
   "source": [
    "X_blind = load_data1(\"blind_test1.csv\")[0]\n",
    "X_blind_transformed = scaler.transform(X_blind)\n",
    "pred_list_SVMCV = []\n",
    "\n",
    "best_model_index = np.argmax(svm_cv_scores)\n",
    "best_svm_model = SVC()\n",
    "best_svm_model.fit(X, Y)\n",
    "\n",
    "for feature in X_blind_transformed:\n",
    "    pred = best_svm_model.predict([feature])\n",
    "    pred_list_SVMCV.append(pred)\n",
    "    flat_list_SVMCV = [num for sublist in pred_list_SVMCV for num in sublist]\n",
    "    \n",
    "data = {\n",
    "    'Output predicted': flat_list_SVMCV,\n",
    "}\n",
    "\n",
    "df_pre_SVMCV = pd.DataFrame(data)\n",
    "df_pre_SVMCV.head(10000)"
   ]
  },
  {
   "cell_type": "markdown",
   "id": "fc98626d68b2d461",
   "metadata": {
    "collapsed": false,
    "jupyter": {
     "outputs_hidden": false
    }
   },
   "source": [
    "# Prediction - XGB"
   ]
  },
  {
   "cell_type": "markdown",
   "id": "669cf7dbd6a51b96",
   "metadata": {
    "collapsed": false,
    "jupyter": {
     "outputs_hidden": false
    }
   },
   "source": [
    "### XGB without Cross-Validation"
   ]
  },
  {
   "cell_type": "code",
   "execution_count": null,
   "id": "364b97474794e581",
   "metadata": {
    "ExecuteTime": {
     "end_time": "2023-11-18T12:44:05.366704900Z",
     "start_time": "2023-11-18T12:43:44.977253500Z"
    },
    "collapsed": false,
    "jupyter": {
     "outputs_hidden": false
    }
   },
   "outputs": [],
   "source": [
    "X_blind = load_data1(\"blind_test1.csv\")[0]\n",
    "X_blind_transformed = scaler.transform(X_blind)\n",
    "pred_list_XGB = []\n",
    "\n",
    "for feature in X_blind_transformed:\n",
    "    pred = xgb.predict([feature])\n",
    "    pred_list_XGB.append(pred)\n",
    "    flat_list_XGB = [num for sublist in pred_list_XGB for num in sublist]\n",
    "    \n",
    "data = {\n",
    "    'Output predicted': flat_list_XGB,\n",
    "}\n",
    "\n",
    "df_pre_XGB = pd.DataFrame(data)\n",
    "df_pre_XGB.head(10000)"
   ]
  },
  {
   "cell_type": "markdown",
   "id": "c977795b61b35d9",
   "metadata": {
    "collapsed": false,
    "jupyter": {
     "outputs_hidden": false
    }
   },
   "source": [
    "### XGB with Cross-Validation"
   ]
  },
  {
   "cell_type": "code",
   "execution_count": null,
   "id": "e32c467c01019adb",
   "metadata": {
    "ExecuteTime": {
     "end_time": "2023-11-18T12:44:34.066369700Z",
     "start_time": "2023-11-18T12:44:05.368705200Z"
    },
    "collapsed": false,
    "jupyter": {
     "outputs_hidden": false
    }
   },
   "outputs": [],
   "source": [
    "X_blind = load_data1(\"blind_test1.csv\")[0]\n",
    "X_blind_transformed = scaler.transform(X_blind)\n",
    "pred_list_XGBCV = []\n",
    "\n",
    "best_model_index = np.argmax(xgb_cv_scores)\n",
    "best_xgb_model = XGBClassifier()\n",
    "best_xgb_model.fit(X, Y)\n",
    "\n",
    "for feature in X_blind_transformed:\n",
    "    pred = best_xgb_model.predict([feature])\n",
    "    pred_list_XGBCV.append(pred)\n",
    "    flat_list_XGBCV = [num for sublist in pred_list_XGBCV for num in sublist]\n",
    "    \n",
    "data = {\n",
    "    'Output predicted': flat_list_XGBCV,\n",
    "}\n",
    "\n",
    "df_pre_XGBCV = pd.DataFrame(data)\n",
    "df_pre_XGBCV.head(10000)"
   ]
  },
  {
   "cell_type": "markdown",
   "metadata": {},
   "source": [
    "# Prediction-Naive Bayes"
   ]
  },
  {
   "cell_type": "markdown",
   "metadata": {},
   "source": [
    "## Naive Bayes without cross-validation"
   ]
  },
  {
   "cell_type": "code",
   "execution_count": 45,
   "metadata": {},
   "outputs": [
    {
     "data": {
      "text/html": [
       "<div>\n",
       "<style scoped>\n",
       "    .dataframe tbody tr th:only-of-type {\n",
       "        vertical-align: middle;\n",
       "    }\n",
       "\n",
       "    .dataframe tbody tr th {\n",
       "        vertical-align: top;\n",
       "    }\n",
       "\n",
       "    .dataframe thead th {\n",
       "        text-align: right;\n",
       "    }\n",
       "</style>\n",
       "<table border=\"1\" class=\"dataframe\">\n",
       "  <thead>\n",
       "    <tr style=\"text-align: right;\">\n",
       "      <th></th>\n",
       "      <th>Output predicted</th>\n",
       "    </tr>\n",
       "  </thead>\n",
       "  <tbody>\n",
       "    <tr>\n",
       "      <th>0</th>\n",
       "      <td>3</td>\n",
       "    </tr>\n",
       "    <tr>\n",
       "      <th>1</th>\n",
       "      <td>8</td>\n",
       "    </tr>\n",
       "    <tr>\n",
       "      <th>2</th>\n",
       "      <td>8</td>\n",
       "    </tr>\n",
       "    <tr>\n",
       "      <th>3</th>\n",
       "      <td>0</td>\n",
       "    </tr>\n",
       "    <tr>\n",
       "      <th>4</th>\n",
       "      <td>6</td>\n",
       "    </tr>\n",
       "    <tr>\n",
       "      <th>...</th>\n",
       "      <td>...</td>\n",
       "    </tr>\n",
       "    <tr>\n",
       "      <th>9995</th>\n",
       "      <td>8</td>\n",
       "    </tr>\n",
       "    <tr>\n",
       "      <th>9996</th>\n",
       "      <td>3</td>\n",
       "    </tr>\n",
       "    <tr>\n",
       "      <th>9997</th>\n",
       "      <td>5</td>\n",
       "    </tr>\n",
       "    <tr>\n",
       "      <th>9998</th>\n",
       "      <td>1</td>\n",
       "    </tr>\n",
       "    <tr>\n",
       "      <th>9999</th>\n",
       "      <td>7</td>\n",
       "    </tr>\n",
       "  </tbody>\n",
       "</table>\n",
       "<p>10000 rows × 1 columns</p>\n",
       "</div>"
      ],
      "text/plain": [
       "      Output predicted\n",
       "0                    3\n",
       "1                    8\n",
       "2                    8\n",
       "3                    0\n",
       "4                    6\n",
       "...                ...\n",
       "9995                 8\n",
       "9996                 3\n",
       "9997                 5\n",
       "9998                 1\n",
       "9999                 7\n",
       "\n",
       "[10000 rows x 1 columns]"
      ]
     },
     "execution_count": 45,
     "metadata": {},
     "output_type": "execute_result"
    }
   ],
   "source": [
    "X_blind = load_data1(\"blind_test1.csv\")[0]\n",
    "X_blind_transformed = scaler.transform(X_blind)\n",
    "pred_list_NB = []\n",
    "\n",
    "for feature in X_blind_transformed:\n",
    "    pred = nb_classifier.predict([feature])\n",
    "    pred_list_NB.append(pred)\n",
    "    flat_list_NB = [num for sublist in pred_list_NB for num in sublist]\n",
    "    \n",
    "data = {\n",
    "    'Output predicted': flat_list_NB,\n",
    "}\n",
    "\n",
    "df_pre_NB = pd.DataFrame(data)\n",
    "df_pre_NB.to_csv('blind_test_1.csv', index=False)\n",
    "df_pre_NB.head(10000)"
   ]
  },
  {
   "cell_type": "markdown",
   "metadata": {},
   "source": [
    "## Naive Bayes with cross-validation"
   ]
  },
  {
   "cell_type": "code",
   "execution_count": null,
   "metadata": {},
   "outputs": [],
   "source": [
    "X_blind = load_data1(\"blind_test1.csv\")[0]\n",
    "X_blind_transformed = scaler.transform(X_blind)\n",
    "pred_list_NBCV = []\n",
    "\n",
    "best_model_index = np.argmax(nb_cv_scores)\n",
    "best_nb_model = GaussianNB()\n",
    "best_nb_model.fit(X, Y)\n",
    "\n",
    "for feature in X_blind_transformed:\n",
    "    pred = best_nb_model.predict([feature])\n",
    "    pred_list_NBCV.append(pred)\n",
    "    flat_list_NBCV = [num for sublist in pred_list_NBCV for num in sublist]\n",
    "    \n",
    "data = {\n",
    "    'Output predicted': flat_list_NBCV,\n",
    "}\n",
    "\n",
    "df_pre_NBCV = pd.DataFrame(data)\n",
    "df_pre_NBCV.head(10000)"
   ]
  },
  {
   "cell_type": "markdown",
   "id": "2403a0202f1b0033",
   "metadata": {
    "collapsed": false,
    "jupyter": {
     "outputs_hidden": false
    }
   },
   "source": [
    "# Export results to CSV - Blind_test1.csv"
   ]
  },
  {
   "cell_type": "markdown",
   "id": "b0f5219706db96d2",
   "metadata": {
    "collapsed": false,
    "jupyter": {
     "outputs_hidden": false
    }
   },
   "source": [
    "### Official Prediction - MLEx1 Blind_test.csv"
   ]
  },
  {
   "cell_type": "raw",
   "id": "cc601e9228c65d3d",
   "metadata": {
    "collapsed": false,
    "jupyter": {
     "outputs_hidden": false
    }
   },
   "source": [
    "file_path = 'blind_test1_predicted.csv'\n",
    "\n",
    "with open(file_path, 'r', newline='') as file:\n",
    "    reader = csv.reader(file)\n",
    "    data = list(reader)\n",
    "\n",
    "    for i, row in enumerate(data[2:], start=0):\n",
    "        row.append(str(flat_list_LR[i]))\n",
    "\n",
    "with open(file_path, 'w', newline='') as file:\n",
    "    writer = csv.writer(file)\n",
    "    writer.writerows(data)"
   ]
  },
  {
   "cell_type": "markdown",
   "id": "d09151a58dd93bb6",
   "metadata": {
    "collapsed": false,
    "jupyter": {
     "outputs_hidden": false
    }
   },
   "source": [
    "### Predictions Table"
   ]
  },
  {
   "cell_type": "code",
   "execution_count": 47,
   "id": "e480d9ecf50d2356",
   "metadata": {
    "ExecuteTime": {
     "end_time": "2023-11-18T12:44:36.243483800Z",
     "start_time": "2023-11-18T12:44:34.068200200Z"
    },
    "collapsed": false,
    "jupyter": {
     "outputs_hidden": false
    }
   },
   "outputs": [
    {
     "ename": "NameError",
     "evalue": "name 'flat_list_DT' is not defined",
     "output_type": "error",
     "traceback": [
      "\u001b[1;31m---------------------------------------------------------------------------\u001b[0m",
      "\u001b[1;31mNameError\u001b[0m                                 Traceback (most recent call last)",
      "\u001b[1;32mc:\\Users\\filip\\Documents\\Programmi Python VS\\Training_Dataset1FC.ipynb Cell 50\u001b[0m line \u001b[0;36m2\n\u001b[0;32m      <a href='vscode-notebook-cell:/c%3A/Users/filip/Documents/Programmi%20Python%20VS/Training_Dataset1FC.ipynb#X66sZmlsZQ%3D%3D?line=0'>1</a>\u001b[0m predictions_df \u001b[39m=\u001b[39m pd\u001b[39m.\u001b[39mDataFrame({\n\u001b[1;32m----> <a href='vscode-notebook-cell:/c%3A/Users/filip/Documents/Programmi%20Python%20VS/Training_Dataset1FC.ipynb#X66sZmlsZQ%3D%3D?line=1'>2</a>\u001b[0m     \u001b[39m'\u001b[39m\u001b[39mDecision Tree\u001b[39m\u001b[39m'\u001b[39m: flat_list_DT,\n\u001b[0;32m      <a href='vscode-notebook-cell:/c%3A/Users/filip/Documents/Programmi%20Python%20VS/Training_Dataset1FC.ipynb#X66sZmlsZQ%3D%3D?line=2'>3</a>\u001b[0m     \u001b[39m'\u001b[39m\u001b[39mSVM\u001b[39m\u001b[39m'\u001b[39m: flat_list_SVM,\n\u001b[0;32m      <a href='vscode-notebook-cell:/c%3A/Users/filip/Documents/Programmi%20Python%20VS/Training_Dataset1FC.ipynb#X66sZmlsZQ%3D%3D?line=3'>4</a>\u001b[0m     \u001b[39m'\u001b[39m\u001b[39mXGB\u001b[39m\u001b[39m'\u001b[39m: flat_list_XGB,\n\u001b[0;32m      <a href='vscode-notebook-cell:/c%3A/Users/filip/Documents/Programmi%20Python%20VS/Training_Dataset1FC.ipynb#X66sZmlsZQ%3D%3D?line=4'>5</a>\u001b[0m     \u001b[39m'\u001b[39m\u001b[39mNB\u001b[39m\u001b[39m'\u001b[39m : flat_list_NB,\n\u001b[0;32m      <a href='vscode-notebook-cell:/c%3A/Users/filip/Documents/Programmi%20Python%20VS/Training_Dataset1FC.ipynb#X66sZmlsZQ%3D%3D?line=5'>6</a>\u001b[0m     \n\u001b[0;32m      <a href='vscode-notebook-cell:/c%3A/Users/filip/Documents/Programmi%20Python%20VS/Training_Dataset1FC.ipynb#X66sZmlsZQ%3D%3D?line=6'>7</a>\u001b[0m     \u001b[39m'\u001b[39m\u001b[39mDecision Tree CV\u001b[39m\u001b[39m'\u001b[39m: flat_list_DTCV,\n\u001b[0;32m      <a href='vscode-notebook-cell:/c%3A/Users/filip/Documents/Programmi%20Python%20VS/Training_Dataset1FC.ipynb#X66sZmlsZQ%3D%3D?line=7'>8</a>\u001b[0m     \u001b[39m'\u001b[39m\u001b[39mSVM CV\u001b[39m\u001b[39m'\u001b[39m: flat_list_SVMCV,\n\u001b[0;32m      <a href='vscode-notebook-cell:/c%3A/Users/filip/Documents/Programmi%20Python%20VS/Training_Dataset1FC.ipynb#X66sZmlsZQ%3D%3D?line=8'>9</a>\u001b[0m     \u001b[39m'\u001b[39m\u001b[39mXGB CV\u001b[39m\u001b[39m'\u001b[39m: flat_list_XGBCV,\n\u001b[0;32m     <a href='vscode-notebook-cell:/c%3A/Users/filip/Documents/Programmi%20Python%20VS/Training_Dataset1FC.ipynb#X66sZmlsZQ%3D%3D?line=9'>10</a>\u001b[0m     \u001b[39m'\u001b[39m\u001b[39mNB CV\u001b[39m\u001b[39m'\u001b[39m : flat_list_NBCV,\n\u001b[0;32m     <a href='vscode-notebook-cell:/c%3A/Users/filip/Documents/Programmi%20Python%20VS/Training_Dataset1FC.ipynb#X66sZmlsZQ%3D%3D?line=10'>11</a>\u001b[0m })\n\u001b[0;32m     <a href='vscode-notebook-cell:/c%3A/Users/filip/Documents/Programmi%20Python%20VS/Training_Dataset1FC.ipynb#X66sZmlsZQ%3D%3D?line=12'>13</a>\u001b[0m predictions_df\u001b[39m.\u001b[39mto_excel(\u001b[39m'\u001b[39m\u001b[39mpredictions_blind_test1.xlsx\u001b[39m\u001b[39m'\u001b[39m, index\u001b[39m=\u001b[39m\u001b[39mTrue\u001b[39;00m)\n",
      "\u001b[1;31mNameError\u001b[0m: name 'flat_list_DT' is not defined"
     ]
    }
   ],
   "source": [
    "predictions_df = pd.DataFrame({\n",
    "    'Decision Tree': flat_list_DT,\n",
    "    'SVM': flat_list_SVM,\n",
    "    'XGB': flat_list_XGB,\n",
    "    'NB' : flat_list_NB,\n",
    "    \n",
    "    'Decision Tree CV': flat_list_DTCV,\n",
    "    'SVM CV': flat_list_SVMCV,\n",
    "    'XGB CV': flat_list_XGBCV,\n",
    "    'NB CV' : flat_list_NBCV,\n",
    "})\n",
    "\n",
    "predictions_df.to_excel('predictions_blind_test1.xlsx', index=True)"
   ]
  },
  {
   "cell_type": "markdown",
   "id": "9d83c40116271cae",
   "metadata": {
    "collapsed": false,
    "jupyter": {
     "outputs_hidden": false
    }
   },
   "source": [
    "### Comparison of algorithms with and without Cross - Validation"
   ]
  },
  {
   "cell_type": "code",
   "execution_count": null,
   "id": "343d78ce88166978",
   "metadata": {
    "ExecuteTime": {
     "end_time": "2023-11-18T17:08:56.268697Z",
     "start_time": "2023-11-18T17:08:56.219062400Z"
    },
    "collapsed": false,
    "jupyter": {
     "outputs_hidden": false
    }
   },
   "outputs": [],
   "source": [
    "counter_DT = 0\n",
    "counter_SVM = 0\n",
    "counter_XGB = 0\n",
    "counter_NB = 0\n",
    "\n",
    "for i1, j1 in zip(flat_list_DT, flat_list_DTCV):\n",
    "    if i1 == j1:\n",
    "        counter_DT += 1\n",
    "    else:\n",
    "        counter_DT += 0\n",
    "\n",
    "\n",
    "for i2, j2 in zip(flat_list_SVM, flat_list_SVMCV):\n",
    "    if i2 == j2:\n",
    "        counter_SVM += 1\n",
    "    else:\n",
    "        counter_SVM += 0\n",
    "\n",
    "        \n",
    "for i3, j3 in zip(flat_list_XGB, flat_list_XGBCV):\n",
    "    if i3 == j3:\n",
    "        counter_XGB += 1\n",
    "    else:\n",
    "        counter_XGB += 0\n",
    "\n",
    "for i4, j4 in zip(flat_list_NB, flat_list_NBCV):\n",
    "    if i4 == j4:\n",
    "        counter_NB += 1\n",
    "    else:\n",
    "        counter_NB += 0\n",
    "        \n",
    "data = {\n",
    "    'Modello': ['DT', 'SVM', 'XGB', 'NB'],\n",
    "    'Equal results [%]': [ counter_DT/100, counter_SVM/100, counter_XGB/100, counter_NB/100]\n",
    "}\n",
    "\n",
    "df_exp_acc = pd.DataFrame(data)\n",
    "df_exp_acc.head(6)"
   ]
  }
 ],
 "metadata": {
  "kernelspec": {
   "display_name": "Python 3 (ipykernel)",
   "language": "python",
   "name": "python3"
  },
  "language_info": {
   "codemirror_mode": {
    "name": "ipython",
    "version": 3
   },
   "file_extension": ".py",
   "mimetype": "text/x-python",
   "name": "python",
   "nbconvert_exporter": "python",
   "pygments_lexer": "ipython3",
   "version": "3.11.6"
  }
 },
 "nbformat": 4,
 "nbformat_minor": 5
}
