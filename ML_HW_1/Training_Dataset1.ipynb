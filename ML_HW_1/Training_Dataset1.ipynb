{
 "cells": [
  {
   "cell_type": "markdown",
   "id": "8cba1c3fce94180f",
   "metadata": {
    "collapsed": false,
    "jupyter": {
     "outputs_hidden": false
    }
   },
   "source": [
    "# Settings"
   ]
  },
  {
   "cell_type": "code",
   "execution_count": 1,
   "id": "f96db51e7769700b",
   "metadata": {
    "ExecuteTime": {
     "end_time": "2023-11-18T21:18:38.702779500Z",
     "start_time": "2023-11-18T21:18:36.008727700Z"
    },
    "collapsed": false,
    "jupyter": {
     "outputs_hidden": false
    }
   },
   "outputs": [
    {
     "name": "stdout",
     "output_type": "stream",
     "text": [
      "X: (50000, 100)\n",
      "Y: (50000,)\n"
     ]
    }
   ],
   "source": [
    "import pandas as pd\n",
    "import numpy as np\n",
    "from sklearn.datasets import make_classification\n",
    "from sklearn.model_selection import train_test_split\n",
    "from sklearn.preprocessing import StandardScaler\n",
    "from sklearn.linear_model import LogisticRegression\n",
    "from sklearn.tree import DecisionTreeClassifier\n",
    "from sklearn.ensemble import RandomForestClassifier\n",
    "from sklearn.svm import SVC\n",
    "from sklearn.neighbors import KNeighborsClassifier\n",
    "from sklearn.metrics import accuracy_score\n",
    "import load_data\n",
    "from sklearn.metrics import confusion_matrix\n",
    "import matplotlib.pyplot as plt\n",
    "import seaborn as sns\n",
    "from sklearn.model_selection import cross_val_score\n",
    "from xgboost import XGBClassifier\n",
    "from sklearn.metrics import roc_auc_score\n",
    "import time\n",
    "import psutil\n",
    "import utils\n",
    "import os\n",
    "import csv\n",
    "\n",
    "load_data.load_data('dataset1.csv')\n",
    "X, Y = load_data.load_data('dataset1.csv')\n",
    "\n",
    "X_train, X_test, y_train, y_test = train_test_split(X, Y, test_size=0.2, random_state=42)\n",
    "\n",
    "scaler = StandardScaler()\n",
    "X_train = scaler.fit_transform(X_train)\n",
    "X_test = scaler.transform(X_test)"
   ]
  },
  {
   "cell_type": "code",
   "execution_count": 2,
   "id": "e04e5281a1d728dc",
   "metadata": {
    "ExecuteTime": {
     "end_time": "2023-11-18T18:03:09.141645400Z",
     "start_time": "2023-11-18T18:03:09.118626400Z"
    },
    "collapsed": false,
    "jupyter": {
     "outputs_hidden": false
    }
   },
   "outputs": [],
   "source": [
    "results = {\n",
    "    'Algorithm': ['Logistic Regression', 'Decision Tree', 'Random Forest', 'SVM', 'K-Nearest Neighbors', \"XGBoost\"],\n",
    "    'Acc. without CV': [],\n",
    "    'Acc. with CV': [],\n",
    "    'T. without CV [s]': [],\n",
    "    'T. with CV [s]': [],\n",
    "    'CPU usage without CV [%]': [],\n",
    "    'CPU usage with CV [%]': [],    \n",
    "}"
   ]
  },
  {
   "cell_type": "markdown",
   "id": "7d44e4a4b28d3f4f",
   "metadata": {
    "collapsed": false,
    "jupyter": {
     "outputs_hidden": false
    }
   },
   "source": [
    "# Unbalanced dataset verification"
   ]
  },
  {
   "cell_type": "code",
   "execution_count": 3,
   "id": "58c2dd1e47c9d91b",
   "metadata": {
    "ExecuteTime": {
     "end_time": "2023-11-18T21:48:45.274416700Z",
     "start_time": "2023-11-18T21:48:45.271491Z"
    },
    "collapsed": false,
    "jupyter": {
     "outputs_hidden": false
    }
   },
   "outputs": [
    {
     "name": "stdout",
     "output_type": "stream",
     "text": [
      "Balanced Dataset\n"
     ]
    },
    {
     "data": {
      "text/html": [
       "<div>\n",
       "<style scoped>\n",
       "    .dataframe tbody tr th:only-of-type {\n",
       "        vertical-align: middle;\n",
       "    }\n",
       "\n",
       "    .dataframe tbody tr th {\n",
       "        vertical-align: top;\n",
       "    }\n",
       "\n",
       "    .dataframe thead th {\n",
       "        text-align: right;\n",
       "    }\n",
       "</style>\n",
       "<table border=\"1\" class=\"dataframe\">\n",
       "  <thead>\n",
       "    <tr style=\"text-align: right;\">\n",
       "      <th></th>\n",
       "      <th>Number</th>\n",
       "      <th>Count</th>\n",
       "    </tr>\n",
       "  </thead>\n",
       "  <tbody>\n",
       "    <tr>\n",
       "      <th>0</th>\n",
       "      <td>0</td>\n",
       "      <td>5000</td>\n",
       "    </tr>\n",
       "    <tr>\n",
       "      <th>1</th>\n",
       "      <td>1</td>\n",
       "      <td>5000</td>\n",
       "    </tr>\n",
       "    <tr>\n",
       "      <th>2</th>\n",
       "      <td>2</td>\n",
       "      <td>5000</td>\n",
       "    </tr>\n",
       "    <tr>\n",
       "      <th>3</th>\n",
       "      <td>3</td>\n",
       "      <td>5000</td>\n",
       "    </tr>\n",
       "    <tr>\n",
       "      <th>4</th>\n",
       "      <td>4</td>\n",
       "      <td>5000</td>\n",
       "    </tr>\n",
       "    <tr>\n",
       "      <th>5</th>\n",
       "      <td>5</td>\n",
       "      <td>5000</td>\n",
       "    </tr>\n",
       "    <tr>\n",
       "      <th>6</th>\n",
       "      <td>6</td>\n",
       "      <td>5000</td>\n",
       "    </tr>\n",
       "    <tr>\n",
       "      <th>7</th>\n",
       "      <td>7</td>\n",
       "      <td>5000</td>\n",
       "    </tr>\n",
       "    <tr>\n",
       "      <th>8</th>\n",
       "      <td>8</td>\n",
       "      <td>5000</td>\n",
       "    </tr>\n",
       "    <tr>\n",
       "      <th>9</th>\n",
       "      <td>9</td>\n",
       "      <td>5000</td>\n",
       "    </tr>\n",
       "  </tbody>\n",
       "</table>\n",
       "</div>"
      ],
      "text/plain": [
       "   Number  Count\n",
       "0       0   5000\n",
       "1       1   5000\n",
       "2       2   5000\n",
       "3       3   5000\n",
       "4       4   5000\n",
       "5       5   5000\n",
       "6       6   5000\n",
       "7       7   5000\n",
       "8       8   5000\n",
       "9       9   5000"
      ]
     },
     "execution_count": 3,
     "metadata": {},
     "output_type": "execute_result"
    }
   ],
   "source": [
    "import pandas as pd\n",
    "\n",
    "target_balance = sorted(Y)\n",
    "conteggio_numeri = {}\n",
    "\n",
    "for numero in target_balance:\n",
    "    if numero in conteggio_numeri:\n",
    "        conteggio_numeri[numero] += 1\n",
    "    else:\n",
    "        conteggio_numeri[numero] = 1\n",
    "\n",
    "df = pd.DataFrame(list(conteggio_numeri.items()), columns=[\"Number\", \"Count\"])\n",
    "\n",
    "count_alert = any(conteggio < 1000 for conteggio in conteggio_numeri.values())\n",
    "\n",
    "if count_alert:\n",
    "    print(\"WARNING! Unbalanced Dataset\")\n",
    "else:\n",
    "    print(\"Balanced Dataset\")\n",
    "    \n",
    "df.head(10)"
   ]
  },
  {
   "cell_type": "markdown",
   "id": "25f5d40ce886efb4",
   "metadata": {
    "collapsed": false,
    "jupyter": {
     "outputs_hidden": false
    }
   },
   "source": [
    "# Logistic Regression"
   ]
  },
  {
   "cell_type": "code",
   "execution_count": null,
   "id": "603ee71bf28932ec",
   "metadata": {
    "ExecuteTime": {
     "end_time": "2023-11-18T21:21:29.460556500Z",
     "start_time": "2023-11-18T21:18:45.964908100Z"
    },
    "collapsed": false,
    "jupyter": {
     "outputs_hidden": false
    }
   },
   "outputs": [
    {
     "name": "stdout",
     "output_type": "stream",
     "text": [
      "Logistic Regression Accuracy: 98.65 %\n"
     ]
    }
   ],
   "source": [
    "start_time_LR = time.time()\n",
    "log_reg = LogisticRegression(max_iter=10000) #default value 100\n",
    "log_reg.fit(X_train, y_train)\n",
    "log_reg_predictions = log_reg.predict(X_test)\n",
    "log_reg_accuracy = accuracy_score(y_test, log_reg_predictions)\n",
    "end_time_LR = time.time()\n",
    "time_without_cv_LR = end_time_LR - start_time_LR\n",
    "print(f\"Logistic Regression Accuracy: {round(log_reg_accuracy*100,2)} %\")\n",
    "\n",
    "results['Acc. without CV'].append(round(log_reg_accuracy * 100, 2))\n",
    "results['T. without CV [s]'].append(round(time_without_cv_LR, 2))\n",
    "results['CPU usage without CV [%]'].append(psutil.cpu_percent())\n",
    "\n",
    "start_time_LR_CV = time.time()\n",
    "log_reg_cv_scores = cross_val_score(LogisticRegression(max_iter=10000), X, Y, cv=5)\n",
    "end_time_LR_CV = time.time()\n",
    "time_with_cv_LR = end_time_LR_CV - start_time_LR_CV\n",
    "print(f\"Logistic Regression Cross-Validation Accuracy: {np.mean(log_reg_cv_scores)*100:.2f} %\")\n",
    "\n",
    "results['Acc. with CV'].append(round(np.mean(log_reg_cv_scores) * 100, 2))\n",
    "results['T. with CV [s]'].append(round(time_with_cv_LR, 2))\n",
    "results['CPU usage with CV [%]'].append(psutil.cpu_percent())"
   ]
  },
  {
   "cell_type": "markdown",
   "id": "445a37e64f47915",
   "metadata": {
    "collapsed": false,
    "jupyter": {
     "outputs_hidden": false
    }
   },
   "source": [
    "### Logistic Regression - Confusion Matrix"
   ]
  },
  {
   "cell_type": "code",
   "execution_count": null,
   "id": "be6fc920cb29c4b",
   "metadata": {
    "ExecuteTime": {
     "end_time": "2023-11-18T12:31:44.329201300Z",
     "start_time": "2023-11-18T12:31:44.140839800Z"
    },
    "collapsed": false,
    "jupyter": {
     "outputs_hidden": false
    }
   },
   "outputs": [],
   "source": [
    "log_reg_cm = confusion_matrix(y_test, log_reg_predictions)\n",
    "plt.figure(figsize=(8, 6))\n",
    "sns.heatmap(log_reg_cm, annot=True, cmap='Blues', fmt='d', cbar=False)\n",
    "plt.title('Logistic Regression Confusion Matrix')\n",
    "plt.xlabel('Predicted Labels')\n",
    "plt.ylabel('True Labels')\n",
    "plt.savefig('confusion_matrix_LR.svg', format='svg')\n",
    "plt.show()"
   ]
  },
  {
   "cell_type": "markdown",
   "id": "17bbd20cfabc5423",
   "metadata": {
    "collapsed": false,
    "jupyter": {
     "outputs_hidden": false
    }
   },
   "source": [
    "# Decision Tree"
   ]
  },
  {
   "cell_type": "code",
   "execution_count": null,
   "id": "cd418d7d21f78537",
   "metadata": {
    "ExecuteTime": {
     "end_time": "2023-11-18T12:32:15.045225100Z",
     "start_time": "2023-11-18T12:31:44.329201300Z"
    },
    "collapsed": false,
    "jupyter": {
     "outputs_hidden": false
    }
   },
   "outputs": [],
   "source": [
    "start_time_DT = time.time()\n",
    "decision_tree = DecisionTreeClassifier()\n",
    "decision_tree.fit(X_train, y_train)\n",
    "dt_predictions = decision_tree.predict(X_test)\n",
    "dt_accuracy = accuracy_score(y_test, dt_predictions)\n",
    "end_time_DT = time.time()\n",
    "time_without_cv_DT = end_time_DT - start_time_DT\n",
    "print(f\"Decision Tree Accuracy: {round(dt_accuracy*100,2)} %\")\n",
    "\n",
    "results['Acc. without CV'].append(round(dt_accuracy * 100, 2))\n",
    "results['T. without CV [s]'].append(round(time_without_cv_DT, 2))\n",
    "results['CPU usage without CV [%]'].append(psutil.cpu_percent())\n",
    "\n",
    "start_time_DT_CV = time.time()\n",
    "dt_cv_scores = cross_val_score(DecisionTreeClassifier(), X, Y, cv=5)\n",
    "end_time_DT_CV = time.time()\n",
    "time_with_cv_DT = end_time_DT_CV - start_time_DT_CV\n",
    "print(f\"Decision Tree Cross-Validation Accuracy: {np.mean(dt_cv_scores)*100:.2f} %\")\n",
    "\n",
    "results['Acc. with CV'].append(round(np.mean(dt_cv_scores) * 100, 2))\n",
    "results['T. with CV [s]'].append(round(time_with_cv_DT, 2))\n",
    "results['CPU usage with CV [%]'].append(psutil.cpu_percent())"
   ]
  },
  {
   "cell_type": "markdown",
   "id": "9cd26559b05feda1",
   "metadata": {
    "collapsed": false,
    "jupyter": {
     "outputs_hidden": false
    }
   },
   "source": [
    "### Decision Tree - Confusion Matrix"
   ]
  },
  {
   "cell_type": "code",
   "execution_count": null,
   "id": "6f500d4805322607",
   "metadata": {
    "ExecuteTime": {
     "end_time": "2023-11-18T12:32:15.236539600Z",
     "start_time": "2023-11-18T12:32:15.045225100Z"
    },
    "collapsed": false,
    "jupyter": {
     "outputs_hidden": false
    }
   },
   "outputs": [],
   "source": [
    "dt_cm = confusion_matrix(y_test, dt_predictions)\n",
    "plt.figure(figsize=(8, 6))\n",
    "sns.heatmap(dt_cm, annot=True, cmap='Greens', fmt='d', cbar=False)\n",
    "plt.title('Decision Tree Confusion Matrix')\n",
    "plt.xlabel('Predicted Labels')\n",
    "plt.ylabel('True Labels')\n",
    "plt.savefig('confusion_matrix_DT.svg', format='svg')\n",
    "plt.show()"
   ]
  },
  {
   "cell_type": "markdown",
   "id": "cf518a2e040a2468",
   "metadata": {
    "collapsed": false,
    "jupyter": {
     "outputs_hidden": false
    }
   },
   "source": [
    "# Random Forest"
   ]
  },
  {
   "cell_type": "code",
   "execution_count": null,
   "id": "81986eb03ca4c9aa",
   "metadata": {
    "ExecuteTime": {
     "end_time": "2023-11-18T12:35:55.081951900Z",
     "start_time": "2023-11-18T12:32:15.236539600Z"
    },
    "collapsed": false,
    "jupyter": {
     "outputs_hidden": false
    }
   },
   "outputs": [],
   "source": [
    "start_time_RF = time.time()\n",
    "random_forest = RandomForestClassifier()\n",
    "random_forest.fit(X_train, y_train)\n",
    "rf_predictions = random_forest.predict(X_test)\n",
    "rf_accuracy = accuracy_score(y_test, rf_predictions)\n",
    "end_time_RF = time.time()\n",
    "time_without_cv_RF = end_time_RF - start_time_RF\n",
    "print(f\"Random Forest Accuracy: {round(rf_accuracy*100,2)} %\")\n",
    "\n",
    "results['Acc. without CV'].append(round(rf_accuracy * 100, 2))\n",
    "results['T. without CV [s]'].append(round(time_without_cv_RF, 2))\n",
    "results['CPU usage without CV [%]'].append(psutil.cpu_percent())\n",
    "\n",
    "start_time_RF_CV = time.time()\n",
    "rf_cv_scores = cross_val_score(RandomForestClassifier(), X, Y, cv=5)\n",
    "end_time_RF_CV = time.time()\n",
    "time_with_cv_RF = end_time_RF_CV - start_time_RF_CV\n",
    "print(f\"Random Forest Cross-Validation Accuracy: {np.mean(rf_cv_scores)*100:.2f} %\")\n",
    "\n",
    "results['Acc. with CV'].append(round(np.mean(rf_cv_scores) * 100, 2))\n",
    "results['T. with CV [s]'].append(round(time_with_cv_RF, 2))\n",
    "results['CPU usage with CV [%]'].append(psutil.cpu_percent())"
   ]
  },
  {
   "cell_type": "markdown",
   "id": "fd313cbd37ed54a6",
   "metadata": {
    "collapsed": false,
    "jupyter": {
     "outputs_hidden": false
    }
   },
   "source": [
    "### Random Forest - Confusion Matrix"
   ]
  },
  {
   "cell_type": "code",
   "execution_count": null,
   "id": "a1dcd55d0d6e876a",
   "metadata": {
    "ExecuteTime": {
     "end_time": "2023-11-18T12:35:55.263431Z",
     "start_time": "2023-11-18T12:35:55.075951900Z"
    },
    "collapsed": false,
    "jupyter": {
     "outputs_hidden": false
    }
   },
   "outputs": [],
   "source": [
    "rf_cm = confusion_matrix(y_test, rf_predictions)\n",
    "plt.figure(figsize=(8, 6))\n",
    "sns.heatmap(rf_cm, annot=True, cmap='Reds', fmt='d', cbar=False)\n",
    "plt.title('Random Forest Confusion Matrix')\n",
    "plt.xlabel('Predicted Labels')\n",
    "plt.ylabel('True Labels')\n",
    "plt.savefig('confusion_matrix_RF.svg', format='svg')\n",
    "plt.show()"
   ]
  },
  {
   "cell_type": "markdown",
   "id": "54421e817bf2b8ed",
   "metadata": {
    "collapsed": false,
    "jupyter": {
     "outputs_hidden": false
    }
   },
   "source": [
    "# Support Vector Machine"
   ]
  },
  {
   "cell_type": "code",
   "execution_count": null,
   "id": "c4f0d214c1dad60",
   "metadata": {
    "ExecuteTime": {
     "end_time": "2023-11-18T12:36:10.016456300Z",
     "start_time": "2023-11-18T12:35:55.264709800Z"
    },
    "collapsed": false,
    "jupyter": {
     "outputs_hidden": false
    }
   },
   "outputs": [],
   "source": [
    "start_time_SVM = time.time()\n",
    "svm = SVC()\n",
    "svm.fit(X_train, y_train)\n",
    "svm_predictions = svm.predict(X_test)\n",
    "svm_accuracy = accuracy_score(y_test, svm_predictions)\n",
    "end_time_SVM = time.time()\n",
    "time_without_cv_SVM = end_time_SVM - start_time_SVM\n",
    "print(f\"SVM Accuracy: {round(svm_accuracy*100,2)} %\")\n",
    "\n",
    "results['Acc. without CV'].append(round(svm_accuracy * 100, 2))\n",
    "results['T. without CV [s]'].append(round(time_without_cv_SVM, 2))\n",
    "results['CPU usage without CV [%]'].append(psutil.cpu_percent())\n",
    "\n",
    "start_time_SVM_CV = time.time()\n",
    "svm_cv_scores = cross_val_score(SVC(), X, Y, cv=5)\n",
    "end_time_SVM_CV = time.time()\n",
    "time_with_cv_SVM = end_time_SVM_CV - start_time_SVM_CV\n",
    "print(f\"SVM Cross-Validation Accuracy: {np.mean(svm_cv_scores)*100:.2f} %\")\n",
    "\n",
    "results['Acc. with CV'].append(round(np.mean(svm_cv_scores) * 100, 2))\n",
    "results['T. with CV [s]'].append(round(time_with_cv_SVM, 2))\n",
    "results['CPU usage with CV [%]'].append(psutil.cpu_percent())"
   ]
  },
  {
   "cell_type": "markdown",
   "id": "8888f487c16c85b",
   "metadata": {
    "collapsed": false,
    "jupyter": {
     "outputs_hidden": false
    }
   },
   "source": [
    "### Support Vector Machine - Confusion Matrix"
   ]
  },
  {
   "cell_type": "code",
   "execution_count": null,
   "id": "e92d68d285b57bb2",
   "metadata": {
    "ExecuteTime": {
     "end_time": "2023-11-18T12:36:10.211154Z",
     "start_time": "2023-11-18T12:36:10.012943500Z"
    },
    "collapsed": false,
    "jupyter": {
     "outputs_hidden": false
    }
   },
   "outputs": [],
   "source": [
    "svm_cm = confusion_matrix(y_test, svm_predictions)\n",
    "plt.figure(figsize=(8, 6))\n",
    "sns.heatmap(svm_cm, annot=True, cmap='Purples', fmt='d', cbar=False)\n",
    "plt.title('SVM Confusion Matrix')\n",
    "plt.xlabel('Predicted Labels')\n",
    "plt.ylabel('True Labels')\n",
    "plt.savefig('confusion_matrix_SVM.svg', format='svg')\n",
    "plt.show()"
   ]
  },
  {
   "cell_type": "markdown",
   "id": "78d6dcb53e3b7ca2",
   "metadata": {
    "collapsed": false,
    "jupyter": {
     "outputs_hidden": false
    }
   },
   "source": [
    "# K-Nearest Neighbors"
   ]
  },
  {
   "cell_type": "code",
   "execution_count": null,
   "id": "94f6460f58ec5c1e",
   "metadata": {
    "ExecuteTime": {
     "end_time": "2023-11-18T17:51:58.295123500Z",
     "start_time": "2023-11-18T17:51:56.316398500Z"
    },
    "collapsed": false,
    "jupyter": {
     "outputs_hidden": false
    }
   },
   "outputs": [],
   "source": [
    "best_knn_params = {'n_neighbors': 13, 'weights': 'uniform'}\n",
    "\n",
    "start_time_KNN = time.time()\n",
    "knn = KNeighborsClassifier(**best_knn_params)\n",
    "knn.fit(X_train, y_train)\n",
    "knn_predictions = knn.predict(X_test)\n",
    "knn_accuracy = accuracy_score(y_test, knn_predictions)\n",
    "end_time_KNN = time.time()\n",
    "time_without_cv_KNN = end_time_KNN - start_time_KNN\n",
    "print(f\"K-Nearest Neighbors Accuracy: {round(knn_accuracy*100,2)} %\")\n",
    "\n",
    "results['Acc. without CV'].append(round(knn_accuracy * 100, 2))\n",
    "results['T. without CV [s]'].append(round(time_without_cv_KNN, 2))\n",
    "results['CPU usage without CV [%]'].append(psutil.cpu_percent())\n",
    "\n",
    "start_time_KNN_CV = time.time()\n",
    "knn_cv_scores = cross_val_score(KNeighborsClassifier(**best_knn_params), X, Y, cv=5)\n",
    "end_time_KNN_CV = time.time()\n",
    "time_with_cv_KNN = end_time_KNN_CV - start_time_KNN_CV\n",
    "print(f\"K-Nearest Neighbors Cross-Validation Accuracy: {np.mean(knn_cv_scores)*100:.2f} %\")\n",
    "\n",
    "results['Acc. with CV'].append(round(np.mean(knn_cv_scores) * 100, 2))\n",
    "results['T. with CV [s]'].append(round(time_with_cv_KNN, 2))\n",
    "results['CPU usage with CV [%]'].append(psutil.cpu_percent())"
   ]
  },
  {
   "cell_type": "markdown",
   "id": "f7622ba9632757d2",
   "metadata": {
    "collapsed": false,
    "jupyter": {
     "outputs_hidden": false
    }
   },
   "source": [
    "### K-Nearest Neighbors - Confusion Matrix"
   ]
  },
  {
   "cell_type": "code",
   "execution_count": null,
   "id": "6716947fe8ba9f6d",
   "metadata": {
    "ExecuteTime": {
     "end_time": "2023-11-18T12:36:12.425351700Z",
     "start_time": "2023-11-18T12:36:12.194440600Z"
    },
    "collapsed": false,
    "jupyter": {
     "outputs_hidden": false
    }
   },
   "outputs": [],
   "source": [
    "knn_cm = confusion_matrix(y_test, knn_predictions)\n",
    "plt.figure(figsize=(8, 6))\n",
    "sns.heatmap(knn_cm, annot=True, cmap='Oranges', fmt='d', cbar=False)\n",
    "plt.title('K-Nearest Neighbors Confusion Matrix')\n",
    "plt.xlabel('Predicted Labels')\n",
    "plt.ylabel('True Labels')\n",
    "plt.savefig('confusion_matrix_KNN.svg', format='svg')\n",
    "plt.show()"
   ]
  },
  {
   "cell_type": "markdown",
   "id": "ddb4d2d161499e07",
   "metadata": {
    "collapsed": false,
    "jupyter": {
     "outputs_hidden": false
    }
   },
   "source": [
    "# XGBoost"
   ]
  },
  {
   "cell_type": "code",
   "execution_count": null,
   "id": "75bd585e378be879",
   "metadata": {
    "ExecuteTime": {
     "end_time": "2023-11-18T17:05:04.497352200Z",
     "start_time": "2023-11-18T17:04:46.871518400Z"
    },
    "collapsed": false,
    "jupyter": {
     "outputs_hidden": false
    }
   },
   "outputs": [],
   "source": [
    "start_time_XGB = time.time()\n",
    "xgb = XGBClassifier()\n",
    "xgb.fit(X_train, y_train)\n",
    "xgb_predictions = xgb.predict(X_test)\n",
    "xgb_accuracy = accuracy_score(y_test, xgb_predictions)\n",
    "end_time_XGB = time.time()\n",
    "time_without_cv_XGB = end_time_XGB - start_time_XGB\n",
    "print(f\"XGBoost Accuracy: {round(xgb_accuracy*100,2)} %\")\n",
    "\n",
    "results['Acc. without CV'].append(round(xgb_accuracy * 100, 2))\n",
    "results['T. without CV [s]'].append(round(time_without_cv_XGB, 2))\n",
    "results['CPU usage without CV [%]'].append(psutil.cpu_percent())\n",
    "\n",
    "start_time_XGB_CV = time.time()\n",
    "xgb_cv_scores = cross_val_score(XGBClassifier(), X, Y, cv=5)\n",
    "end_time_XGB_CV = time.time()\n",
    "time_with_cv_XGB = end_time_XGB_CV - start_time_XGB_CV\n",
    "print(f\"XGBoost Cross-Validation Accuracy: {np.mean(xgb_cv_scores)*100:.2f} %\")\n",
    "\n",
    "results['Acc. with CV'].append(round(np.mean(xgb_cv_scores) * 100, 2))\n",
    "results['T. with CV [s]'].append(round(time_with_cv_XGB, 2))\n",
    "results['CPU usage with CV [%]'].append(psutil.cpu_percent())"
   ]
  },
  {
   "cell_type": "markdown",
   "id": "31e58e078f97493",
   "metadata": {
    "collapsed": false,
    "jupyter": {
     "outputs_hidden": false
    }
   },
   "source": [
    "### XGBoost - Confusion Matrix "
   ]
  },
  {
   "cell_type": "code",
   "execution_count": null,
   "id": "84ff1b52bba697f",
   "metadata": {
    "ExecuteTime": {
     "end_time": "2023-11-18T12:36:29.459594200Z",
     "start_time": "2023-11-18T12:36:29.252643800Z"
    },
    "collapsed": false,
    "jupyter": {
     "outputs_hidden": false
    }
   },
   "outputs": [],
   "source": [
    "xgb_cm = confusion_matrix(y_test, xgb_predictions)\n",
    "plt.figure(figsize=(8, 6))\n",
    "sns.heatmap(xgb_cm, annot=True, cmap='YlOrBr', fmt='d', cbar=False)\n",
    "plt.title('XGBoost Confusion Matrix')\n",
    "plt.xlabel('Predicted Labels')\n",
    "plt.ylabel('True Labels')\n",
    "plt.savefig('confusion_matrix_XGB.svg', format='svg')\n",
    "plt.show()"
   ]
  },
  {
   "cell_type": "markdown",
   "id": "7da8984b8547d98",
   "metadata": {
    "collapsed": false,
    "jupyter": {
     "outputs_hidden": false
    }
   },
   "source": [
    "# Results Table"
   ]
  },
  {
   "cell_type": "code",
   "execution_count": null,
   "id": "d5850eee8ed59a50",
   "metadata": {
    "ExecuteTime": {
     "end_time": "2023-11-18T17:03:44.481509200Z",
     "start_time": "2023-11-18T17:03:44.418408100Z"
    },
    "collapsed": false,
    "jupyter": {
     "outputs_hidden": false
    }
   },
   "outputs": [],
   "source": [
    "df_results = pd.DataFrame(results)\n",
    "df_results.head(10)"
   ]
  },
  {
   "cell_type": "markdown",
   "id": "e4210edc8d1cab30",
   "metadata": {
    "collapsed": false,
    "jupyter": {
     "outputs_hidden": false
    }
   },
   "source": [
    "# Prediction - Logistic Regression"
   ]
  },
  {
   "cell_type": "markdown",
   "id": "d0efa3dfa94035b3",
   "metadata": {
    "collapsed": false,
    "jupyter": {
     "outputs_hidden": false
    }
   },
   "source": [
    "### Logistic Regression without Cross - Validation"
   ]
  },
  {
   "cell_type": "code",
   "execution_count": null,
   "id": "d1d995645e6804d8",
   "metadata": {
    "ExecuteTime": {
     "end_time": "2023-11-18T17:13:00.165319500Z",
     "start_time": "2023-11-18T17:12:49.309883200Z"
    },
    "collapsed": false,
    "jupyter": {
     "outputs_hidden": false
    }
   },
   "outputs": [],
   "source": [
    "X_blind = load_data.load_data(\"blind_test1.csv\")[0]\n",
    "X_blind_transformed = scaler.transform(X_blind)\n",
    "pred_list_LR = []\n",
    "\n",
    "for feature in X_blind_transformed:\n",
    "    pred = log_reg.predict([feature])\n",
    "    pred_list_LR.append(pred)\n",
    "    flat_list_LR = [num for sublist in pred_list_LR for num in sublist]\n",
    "\n",
    "data = {\n",
    "    'Output predicted': flat_list_LR,\n",
    "}\n",
    "\n",
    "df_pre_LR = pd.DataFrame(data)\n",
    "df_pre_LR.head(10000)"
   ]
  },
  {
   "cell_type": "markdown",
   "id": "6bf31058f908f475",
   "metadata": {
    "collapsed": false,
    "jupyter": {
     "outputs_hidden": false
    }
   },
   "source": [
    "### Logistic Regression with Cross - Validation"
   ]
  },
  {
   "cell_type": "code",
   "execution_count": null,
   "id": "5157a0ef5f1945dc",
   "metadata": {
    "ExecuteTime": {
     "end_time": "2023-11-18T12:37:16.383360800Z",
     "start_time": "2023-11-18T12:36:40.374601100Z"
    },
    "collapsed": false,
    "jupyter": {
     "outputs_hidden": false
    }
   },
   "outputs": [],
   "source": [
    "X_blind = load_data.load_data(\"blind_test1.csv\")[0]\n",
    "X_blind_transformed = scaler.transform(X_blind)\n",
    "pred_list_LRCV = []\n",
    "\n",
    "best_model_index = np.argmax(log_reg_cv_scores)\n",
    "best_log_reg_model = LogisticRegression(max_iter=10000)\n",
    "best_log_reg_model.fit(X, Y)\n",
    "\n",
    "for feature in X_blind_transformed:\n",
    "    pred = best_log_reg_model.predict([feature])\n",
    "    pred_list_LRCV.append(pred)\n",
    "    flat_list_LRCV = [num for sublist in pred_list_LRCV for num in sublist]\n",
    "    \n",
    "data = {\n",
    "    'Output predicted': flat_list_LRCV,\n",
    "}\n",
    "\n",
    "df_pre_LRCV = pd.DataFrame(data)\n",
    "df_pre_LRCV.head(10000)"
   ]
  },
  {
   "cell_type": "markdown",
   "id": "1bcb317e64c85e9f",
   "metadata": {
    "collapsed": false,
    "jupyter": {
     "outputs_hidden": false
    }
   },
   "source": [
    "# Prediction - Decision Tree"
   ]
  },
  {
   "cell_type": "markdown",
   "id": "99ac2e94008c9d18",
   "metadata": {
    "collapsed": false,
    "jupyter": {
     "outputs_hidden": false
    }
   },
   "source": [
    "### Decision Tree without Cross - Validation"
   ]
  },
  {
   "cell_type": "code",
   "execution_count": null,
   "id": "ba2e867c9308fdf3",
   "metadata": {
    "ExecuteTime": {
     "end_time": "2023-11-18T12:37:27.260869200Z",
     "start_time": "2023-11-18T12:37:16.383360800Z"
    },
    "collapsed": false,
    "jupyter": {
     "outputs_hidden": false
    }
   },
   "outputs": [],
   "source": [
    "X_blind = load_data.load_data(\"blind_test1.csv\")[0]\n",
    "X_blind_transformed = scaler.transform(X_blind)\n",
    "pred_list_DT = []\n",
    "\n",
    "for feature in X_blind_transformed:\n",
    "    pred = decision_tree.predict([feature])\n",
    "    pred_list_DT.append(pred)\n",
    "    flat_list_DT = [num for sublist in pred_list_DT for num in sublist]\n",
    "\n",
    "data = {\n",
    "    'Output predicted': flat_list_DT,\n",
    "}\n",
    "\n",
    "df_pre_DT = pd.DataFrame(data)\n",
    "df_pre_DT.head(10000)"
   ]
  },
  {
   "cell_type": "markdown",
   "id": "24e4d61db6a73585",
   "metadata": {
    "collapsed": false,
    "jupyter": {
     "outputs_hidden": false
    }
   },
   "source": [
    "### Decision Tree with Cross - Validation"
   ]
  },
  {
   "cell_type": "code",
   "execution_count": null,
   "id": "228eafefdc8951a0",
   "metadata": {
    "ExecuteTime": {
     "end_time": "2023-11-18T12:37:46.268369900Z",
     "start_time": "2023-11-18T12:37:27.260869200Z"
    },
    "collapsed": false,
    "jupyter": {
     "outputs_hidden": false
    }
   },
   "outputs": [],
   "source": [
    "X_blind = load_data.load_data(\"blind_test1.csv\")[0]\n",
    "X_blind_transformed = scaler.transform(X_blind)\n",
    "pred_list_DTCV = []\n",
    "\n",
    "best_model_index = np.argmax(dt_cv_scores)\n",
    "best_dt_model = DecisionTreeClassifier()\n",
    "best_dt_model.fit(X, Y)\n",
    "\n",
    "for feature in X_blind_transformed:\n",
    "    pred = best_dt_model.predict([feature])\n",
    "    pred_list_DTCV.append(pred)\n",
    "    flat_list_DTCV = [num for sublist in pred_list_DTCV for num in sublist]\n",
    "    \n",
    "data = {\n",
    "    'Output predicted': flat_list_DTCV,\n",
    "}\n",
    "\n",
    "df_pre_DTCV = pd.DataFrame(data)\n",
    "df_pre_DTCV.head(10000)"
   ]
  },
  {
   "cell_type": "markdown",
   "id": "cf79afb58d63eb45",
   "metadata": {
    "collapsed": false,
    "jupyter": {
     "outputs_hidden": false
    }
   },
   "source": [
    "# Prediction - Random Forest"
   ]
  },
  {
   "cell_type": "markdown",
   "id": "122b04ea2f7aa3e",
   "metadata": {
    "collapsed": false,
    "jupyter": {
     "outputs_hidden": false
    }
   },
   "source": [
    "### Random Forest without Cross - Validation"
   ]
  },
  {
   "cell_type": "code",
   "execution_count": null,
   "id": "f628c067dc1b6bad",
   "metadata": {
    "ExecuteTime": {
     "end_time": "2023-11-18T12:38:58.091013200Z",
     "start_time": "2023-11-18T12:37:46.268369900Z"
    },
    "collapsed": false,
    "jupyter": {
     "outputs_hidden": false
    }
   },
   "outputs": [],
   "source": [
    "X_blind = load_data.load_data(\"blind_test1.csv\")[0]\n",
    "X_blind_transformed = scaler.transform(X_blind)\n",
    "pred_list_RF = []\n",
    "\n",
    "for feature in X_blind_transformed:\n",
    "    pred = random_forest.predict([feature])\n",
    "    pred_list_RF.append(pred)\n",
    "    flat_list_RF = [num for sublist in pred_list_RF for num in sublist]\n",
    "    \n",
    "data = {\n",
    "    'Output predicted': flat_list_RF,\n",
    "}\n",
    "\n",
    "df_pre_RF = pd.DataFrame(data)\n",
    "df_pre_RF.head(10000)"
   ]
  },
  {
   "cell_type": "markdown",
   "id": "fd3f7206a432c8e9",
   "metadata": {
    "collapsed": false,
    "jupyter": {
     "outputs_hidden": false
    }
   },
   "source": [
    "### Random Forest with Cross - Validation"
   ]
  },
  {
   "cell_type": "code",
   "execution_count": null,
   "id": "bcdd0af149669330",
   "metadata": {
    "ExecuteTime": {
     "end_time": "2023-11-18T12:41:25.892423300Z",
     "start_time": "2023-11-18T12:38:58.091013200Z"
    },
    "collapsed": false,
    "jupyter": {
     "outputs_hidden": false
    }
   },
   "outputs": [],
   "source": [
    "X_blind = load_data.load_data(\"blind_test1.csv\")[0]\n",
    "X_blind_transformed = scaler.transform(X_blind)\n",
    "pred_list_RFCV = []\n",
    "\n",
    "best_model_index = np.argmax(rf_cv_scores)\n",
    "best_rf_model = RandomForestClassifier()\n",
    "best_rf_model.fit(X, Y)\n",
    "\n",
    "for feature in X_blind_transformed:\n",
    "    pred = best_rf_model.predict([feature])\n",
    "    pred_list_RFCV.append(pred)\n",
    "    flat_list_RFCV = [num for sublist in pred_list_RFCV for num in sublist]\n",
    "    \n",
    "data = {\n",
    "    'Output predicted': flat_list_RFCV,\n",
    "}\n",
    "\n",
    "df_pre_RFCV = pd.DataFrame(data)\n",
    "df_pre_RFCV.head(10000)"
   ]
  },
  {
   "cell_type": "markdown",
   "id": "2481489d67fdbad8",
   "metadata": {
    "collapsed": false,
    "jupyter": {
     "outputs_hidden": false
    }
   },
   "source": [
    "# Prediction - Support Vector Machine"
   ]
  },
  {
   "cell_type": "markdown",
   "id": "b8f2d793b43fe794",
   "metadata": {
    "collapsed": false,
    "jupyter": {
     "outputs_hidden": false
    }
   },
   "source": [
    "### Support Vector Machine without Cross-Validation"
   ]
  },
  {
   "cell_type": "code",
   "execution_count": null,
   "id": "52542e0992a9bc5c",
   "metadata": {
    "ExecuteTime": {
     "end_time": "2023-11-18T12:41:52.082077400Z",
     "start_time": "2023-11-18T12:41:25.892423300Z"
    },
    "collapsed": false,
    "jupyter": {
     "outputs_hidden": false
    }
   },
   "outputs": [],
   "source": [
    "X_blind = load_data.load_data(\"blind_test1.csv\")[0]\n",
    "X_blind_transformed = scaler.transform(X_blind)\n",
    "pred_list_SVM = []\n",
    "\n",
    "for feature in X_blind_transformed:\n",
    "    pred = svm.predict([feature])\n",
    "    pred_list_SVM.append(pred)\n",
    "    flat_list_SVM = [num for sublist in pred_list_SVM for num in sublist]\n",
    "    \n",
    "data = {\n",
    "    'Output predicted': flat_list_SVM,\n",
    "}\n",
    "\n",
    "df_pre_SVM = pd.DataFrame(data)\n",
    "df_pre_SVM.head(10000)"
   ]
  },
  {
   "cell_type": "markdown",
   "id": "a4c174fa8263d0a6",
   "metadata": {
    "collapsed": false,
    "jupyter": {
     "outputs_hidden": false
    }
   },
   "source": [
    "### Support Vector Machine with Cross-Validation"
   ]
  },
  {
   "cell_type": "code",
   "execution_count": null,
   "id": "e9b146476c84c2d9",
   "metadata": {
    "ExecuteTime": {
     "end_time": "2023-11-18T12:42:21.239303300Z",
     "start_time": "2023-11-18T12:41:52.082077400Z"
    },
    "collapsed": false,
    "jupyter": {
     "outputs_hidden": false
    }
   },
   "outputs": [],
   "source": [
    "X_blind = load_data.load_data(\"blind_test1.csv\")[0]\n",
    "X_blind_transformed = scaler.transform(X_blind)\n",
    "pred_list_SVMCV = []\n",
    "\n",
    "best_model_index = np.argmax(svm_cv_scores)\n",
    "best_svm_model = SVC()\n",
    "best_svm_model.fit(X, Y)\n",
    "\n",
    "for feature in X_blind_transformed:\n",
    "    pred = best_svm_model.predict([feature])\n",
    "    pred_list_SVMCV.append(pred)\n",
    "    flat_list_SVMCV = [num for sublist in pred_list_SVMCV for num in sublist]\n",
    "    \n",
    "data = {\n",
    "    'Output predicted': flat_list_SVMCV,\n",
    "}\n",
    "\n",
    "df_pre_SVMCV = pd.DataFrame(data)\n",
    "df_pre_SVMCV.head(10000)"
   ]
  },
  {
   "cell_type": "markdown",
   "id": "4af79f62f1ba6c0a",
   "metadata": {
    "collapsed": false,
    "jupyter": {
     "outputs_hidden": false
    }
   },
   "source": [
    "# Prediction - K-Nearest Neighbors"
   ]
  },
  {
   "cell_type": "markdown",
   "id": "dab79d9049fd3dd6",
   "metadata": {
    "collapsed": false,
    "jupyter": {
     "outputs_hidden": false
    }
   },
   "source": [
    "### K-Nearest Neighbors without Cross-Validation"
   ]
  },
  {
   "cell_type": "code",
   "execution_count": null,
   "id": "12f8058fd7e53ebf",
   "metadata": {
    "ExecuteTime": {
     "end_time": "2023-11-18T12:43:00.498903200Z",
     "start_time": "2023-11-18T12:42:21.241901500Z"
    },
    "collapsed": false,
    "jupyter": {
     "outputs_hidden": false
    }
   },
   "outputs": [],
   "source": [
    "X_blind = load_data.load_data(\"blind_test1.csv\")[0]\n",
    "X_blind_transformed = scaler.transform(X_blind)\n",
    "pred_list_KNN = []\n",
    "\n",
    "for feature in X_blind_transformed:\n",
    "    pred = knn.predict([feature])\n",
    "    pred_list_KNN.append(pred)\n",
    "    flat_list_KNN = [num for sublist in pred_list_KNN for num in sublist]\n",
    "    \n",
    "data = {\n",
    "    'Output predicted': flat_list_KNN,\n",
    "}\n",
    "\n",
    "df_pre_KNN = pd.DataFrame(data)\n",
    "df_pre_KNN.head(10000)"
   ]
  },
  {
   "cell_type": "markdown",
   "id": "d33bb241c96943a",
   "metadata": {
    "collapsed": false,
    "jupyter": {
     "outputs_hidden": false
    }
   },
   "source": [
    "### K-Nearest Neighbors with Cross-Validation"
   ]
  },
  {
   "cell_type": "code",
   "execution_count": null,
   "id": "e0f27a4c28ddd909",
   "metadata": {
    "ExecuteTime": {
     "end_time": "2023-11-18T12:43:44.975253300Z",
     "start_time": "2023-11-18T12:43:00.499863900Z"
    },
    "collapsed": false,
    "jupyter": {
     "outputs_hidden": false
    }
   },
   "outputs": [],
   "source": [
    "X_blind = load_data.load_data(\"blind_test1.csv\")[0]\n",
    "X_blind_transformed = scaler.transform(X_blind)\n",
    "pred_list_KNNCV = []\n",
    "\n",
    "best_model_index = np.argmax(knn_cv_scores)\n",
    "best_knn_model = KNeighborsClassifier(**best_knn_params)\n",
    "best_knn_model.fit(X, Y)\n",
    "\n",
    "for feature in X_blind_transformed:\n",
    "    pred = best_knn_model.predict([feature])\n",
    "    pred_list_KNNCV.append(pred)\n",
    "    flat_list_KNNCV = [num for sublist in pred_list_KNNCV for num in sublist]\n",
    "\n",
    "data = {\n",
    "    'Output predicted': flat_list_KNNCV,\n",
    "}\n",
    "\n",
    "df_pre_KNNCV = pd.DataFrame(data)\n",
    "df_pre_KNNCV.head(10000)"
   ]
  },
  {
   "cell_type": "markdown",
   "id": "fc98626d68b2d461",
   "metadata": {
    "collapsed": false,
    "jupyter": {
     "outputs_hidden": false
    }
   },
   "source": [
    "# Prediction - XGB"
   ]
  },
  {
   "cell_type": "markdown",
   "id": "669cf7dbd6a51b96",
   "metadata": {
    "collapsed": false,
    "jupyter": {
     "outputs_hidden": false
    }
   },
   "source": [
    "### XGB without Cross-Validation"
   ]
  },
  {
   "cell_type": "code",
   "execution_count": null,
   "id": "364b97474794e581",
   "metadata": {
    "ExecuteTime": {
     "end_time": "2023-11-18T12:44:05.366704900Z",
     "start_time": "2023-11-18T12:43:44.977253500Z"
    },
    "collapsed": false,
    "jupyter": {
     "outputs_hidden": false
    }
   },
   "outputs": [],
   "source": [
    "X_blind = load_data.load_data(\"blind_test1.csv\")[0]\n",
    "X_blind_transformed = scaler.transform(X_blind)\n",
    "pred_list_XGB = []\n",
    "\n",
    "for feature in X_blind_transformed:\n",
    "    pred = xgb.predict([feature])\n",
    "    pred_list_XGB.append(pred)\n",
    "    flat_list_XGB = [num for sublist in pred_list_XGB for num in sublist]\n",
    "    \n",
    "data = {\n",
    "    'Output predicted': flat_list_XGB,\n",
    "}\n",
    "\n",
    "df_pre_XGB = pd.DataFrame(data)\n",
    "df_pre_XGB.head(10000)"
   ]
  },
  {
   "cell_type": "markdown",
   "id": "c977795b61b35d9",
   "metadata": {
    "collapsed": false,
    "jupyter": {
     "outputs_hidden": false
    }
   },
   "source": [
    "### XGB with Cross-Validation"
   ]
  },
  {
   "cell_type": "code",
   "execution_count": null,
   "id": "e32c467c01019adb",
   "metadata": {
    "ExecuteTime": {
     "end_time": "2023-11-18T12:44:34.066369700Z",
     "start_time": "2023-11-18T12:44:05.368705200Z"
    },
    "collapsed": false,
    "jupyter": {
     "outputs_hidden": false
    }
   },
   "outputs": [],
   "source": [
    "X_blind = load_data.load_data(\"blind_test1.csv\")[0]\n",
    "X_blind_transformed = scaler.transform(X_blind)\n",
    "pred_list_XGBCV = []\n",
    "\n",
    "best_model_index = np.argmax(xgb_cv_scores)\n",
    "best_xgb_model = XGBClassifier()\n",
    "best_xgb_model.fit(X, Y)\n",
    "\n",
    "for feature in X_blind_transformed:\n",
    "    pred = best_xgb_model.predict([feature])\n",
    "    pred_list_XGBCV.append(pred)\n",
    "    flat_list_XGBCV = [num for sublist in pred_list_XGBCV for num in sublist]\n",
    "    \n",
    "data = {\n",
    "    'Output predicted': flat_list_XGBCV,\n",
    "}\n",
    "\n",
    "df_pre_XGBCV = pd.DataFrame(data)\n",
    "df_pre_XGBCV.head(10000)"
   ]
  },
  {
   "cell_type": "markdown",
   "id": "2403a0202f1b0033",
   "metadata": {
    "collapsed": false,
    "jupyter": {
     "outputs_hidden": false
    }
   },
   "source": [
    "# Export results to CSV - Blind_test1.csv"
   ]
  },
  {
   "cell_type": "markdown",
   "id": "b0f5219706db96d2",
   "metadata": {
    "collapsed": false,
    "jupyter": {
     "outputs_hidden": false
    }
   },
   "source": [
    "### Official Prediction - MLEx1 Blind_test.csv"
   ]
  },
  {
   "cell_type": "raw",
   "id": "cc601e9228c65d3d",
   "metadata": {
    "collapsed": false,
    "jupyter": {
     "outputs_hidden": false
    }
   },
   "source": [
    "file_path = 'blind_test1_predicted.csv'\n",
    "\n",
    "with open(file_path, 'r', newline='') as file:\n",
    "    reader = csv.reader(file)\n",
    "    data = list(reader)\n",
    "\n",
    "    for i, row in enumerate(data[2:], start=0):\n",
    "        row.append(str(flat_list_LR[i]))\n",
    "\n",
    "with open(file_path, 'w', newline='') as file:\n",
    "    writer = csv.writer(file)\n",
    "    writer.writerows(data)"
   ]
  },
  {
   "cell_type": "markdown",
   "id": "d09151a58dd93bb6",
   "metadata": {
    "collapsed": false,
    "jupyter": {
     "outputs_hidden": false
    }
   },
   "source": [
    "### Predictions Table"
   ]
  },
  {
   "cell_type": "code",
   "execution_count": null,
   "id": "e480d9ecf50d2356",
   "metadata": {
    "ExecuteTime": {
     "end_time": "2023-11-18T12:44:36.243483800Z",
     "start_time": "2023-11-18T12:44:34.068200200Z"
    },
    "collapsed": false,
    "jupyter": {
     "outputs_hidden": false
    }
   },
   "outputs": [],
   "source": [
    "predictions_df = pd.DataFrame({\n",
    "    'Logistic Regression': flat_list_LR,\n",
    "    'Decision Tree': flat_list_DT,\n",
    "    'Random Forest': flat_list_RF,\n",
    "    'SVM': flat_list_SVM,\n",
    "    'K-Nearest Neighbors': flat_list_KNN,\n",
    "    'XGB': flat_list_XGB,\n",
    "    'Logistic Regression CV': flat_list_LRCV,\n",
    "    'Decision Tree CV': flat_list_DTCV,\n",
    "    'Random Forest CV': flat_list_RFCV,\n",
    "    'SVM CV': flat_list_SVMCV,\n",
    "    'K-Nearest Neighbors CV': flat_list_KNNCV,\n",
    "    'XGB CV': flat_list_XGBCV\n",
    "})\n",
    "\n",
    "predictions_df.to_excel('predictions_blind_test1.xlsx', index=True)"
   ]
  },
  {
   "cell_type": "markdown",
   "id": "9d83c40116271cae",
   "metadata": {
    "collapsed": false,
    "jupyter": {
     "outputs_hidden": false
    }
   },
   "source": [
    "### Comparison of algorithms with and without Cross - Validation"
   ]
  },
  {
   "cell_type": "code",
   "execution_count": null,
   "id": "343d78ce88166978",
   "metadata": {
    "ExecuteTime": {
     "end_time": "2023-11-18T17:08:56.268697Z",
     "start_time": "2023-11-18T17:08:56.219062400Z"
    },
    "collapsed": false,
    "jupyter": {
     "outputs_hidden": false
    }
   },
   "outputs": [],
   "source": [
    "counter_LR = 0\n",
    "counter_DT = 0\n",
    "counter_RF = 0\n",
    "counter_SVM = 0\n",
    "counter_KNN = 0\n",
    "counter_XGB = 0\n",
    "\n",
    "for i1, j1 in zip(flat_list_LR, flat_list_LRCV):\n",
    "    if i1 == j1:\n",
    "        counter_LR += 1\n",
    "    else:\n",
    "        counter_LR += 0\n",
    "\n",
    "for i2, j2 in zip(flat_list_DT, flat_list_DTCV):\n",
    "    if i2 == j2:\n",
    "        counter_DT += 1\n",
    "    else:\n",
    "        counter_DT += 0\n",
    "\n",
    "for i3, j3 in zip(flat_list_RF, flat_list_RFCV):\n",
    "    if i3 == j3:\n",
    "        counter_RF += 1\n",
    "    else:\n",
    "        counter_RF += 0\n",
    "\n",
    "for i4, j4 in zip(flat_list_SVM, flat_list_SVMCV):\n",
    "    if i4 == j4:\n",
    "        counter_SVM += 1\n",
    "    else:\n",
    "        counter_SVM += 0\n",
    "\n",
    "for i5, j5 in zip(flat_list_KNN, flat_list_KNNCV):\n",
    "    if i5 == j5:\n",
    "        counter_KNN += 1\n",
    "    else:\n",
    "        counter_KNN += 0\n",
    "        \n",
    "for i6, j6 in zip(flat_list_XGB, flat_list_XGBCV):\n",
    "    if i6 == j6:\n",
    "        counter_XGB += 1\n",
    "    else:\n",
    "        counter_XGB += 0\n",
    "        \n",
    "data = {\n",
    "    'Modello': ['LR', 'DT', 'RF', 'SVM', 'KNN', 'XGB'],\n",
    "    'Equal results [%]': [counter_LR/100, counter_DT/100, counter_RF/100, counter_SVM/100, counter_KNN/100, counter_XGB/100]\n",
    "}\n",
    "\n",
    "df_exp_acc = pd.DataFrame(data)\n",
    "df_exp_acc.head(6)"
   ]
  }
 ],
 "metadata": {
  "kernelspec": {
   "display_name": "Python 3 (ipykernel)",
   "language": "python",
   "name": "python3"
  },
  "language_info": {
   "codemirror_mode": {
    "name": "ipython",
    "version": 3
   },
   "file_extension": ".py",
   "mimetype": "text/x-python",
   "name": "python",
   "nbconvert_exporter": "python",
   "pygments_lexer": "ipython3",
   "version": "3.11.6"
  }
 },
 "nbformat": 4,
 "nbformat_minor": 5
}
